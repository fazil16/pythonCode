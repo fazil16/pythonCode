{
  "nbformat": 4,
  "nbformat_minor": 0,
  "metadata": {
    "colab": {
      "name": "fazilPython.ipynb",
      "provenance": [],
      "authorship_tag": "ABX9TyNw+Z8RVu8bXmy86Y5MJYwl",
      "include_colab_link": true
    },
    "kernelspec": {
      "name": "python3",
      "display_name": "Python 3"
    },
    "language_info": {
      "name": "python"
    }
  },
  "cells": [
    {
      "cell_type": "markdown",
      "metadata": {
        "id": "view-in-github",
        "colab_type": "text"
      },
      "source": [
        "<a href=\"https://colab.research.google.com/github/fazil16/pythonCode/blob/main/fazilPython.ipynb\" target=\"_parent\"><img src=\"https://colab.research.google.com/assets/colab-badge.svg\" alt=\"Open In Colab\"/></a>"
      ]
    },
    {
      "cell_type": "code",
      "execution_count": null,
      "metadata": {
        "id": "SUgqwBMWB8i4",
        "colab": {
          "base_uri": "https://localhost:8080/"
        },
        "outputId": "381d2958-9937-45a0-bfd3-444487be0c91"
      },
      "outputs": [
        {
          "output_type": "stream",
          "name": "stdout",
          "text": [
            "Enter the value of num1:5\n",
            "Enter the value of num2:7\n",
            "The sum of 5 and 7 is 12\n"
          ]
        }
      ],
      "source": [
        "num1=int(input(\"Enter the value of num1:\"));\n",
        "num2=int(input(\"Enter the value of num2:\"));\n",
        "sum = num1 + num2;\n",
        "print('The sum of {0} and {1} is {2}'.format(num1,num2,sum,));"
      ]
    },
    {
      "cell_type": "code",
      "source": [
        "num = float(input(\"Enter the value:\"));\n",
        "sqrt = num ** 0.5;\n",
        "print('The square root of the giver number is', sqrt);"
      ],
      "metadata": {
        "colab": {
          "base_uri": "https://localhost:8080/"
        },
        "id": "KMQgSpkcEWQi",
        "outputId": "5cbafa1f-817a-412d-b4dd-cfccc040152c"
      },
      "execution_count": null,
      "outputs": [
        {
          "output_type": "stream",
          "name": "stdout",
          "text": [
            "Enter the value:7\n",
            "The square root of the giver number is 2.6457513110645907\n"
          ]
        }
      ]
    },
    {
      "cell_type": "code",
      "source": [
        "x= 5;\n",
        "y = 10;\n",
        "temp= x;\n",
        "x = y;\n",
        "y = temp;\n",
        "print('The value of x after swapping',x);\n",
        "print('The value of y after swapping',y);"
      ],
      "metadata": {
        "colab": {
          "base_uri": "https://localhost:8080/"
        },
        "id": "9K6sAjpmEWTW",
        "outputId": "2b8972b6-c65a-437e-945a-a64cb321d422"
      },
      "execution_count": null,
      "outputs": [
        {
          "output_type": "stream",
          "name": "stdout",
          "text": [
            "The value of x after swapping 10\n",
            "The value of y after swapping 5\n"
          ]
        }
      ]
    },
    {
      "cell_type": "code",
      "source": [
        "import cmath\n",
        "num = 1+2j\n",
        "num_sqrt = cmath.sqrt(num)\n",
        "print('The square root of {0} is {1:0.3f}+{2:0.3f}j'.format(num,num_sqrt.real,num_sqrt.imag))"
      ],
      "metadata": {
        "colab": {
          "base_uri": "https://localhost:8080/"
        },
        "id": "M2D2KKATEWVo",
        "outputId": "e7841318-995f-4cfa-eac8-3b4df1ad52d8"
      },
      "execution_count": null,
      "outputs": [
        {
          "output_type": "stream",
          "name": "stdout",
          "text": [
            "The square root of (1+2j) is 1.272+0.786j\n"
          ]
        }
      ]
    },
    {
      "cell_type": "code",
      "source": [
        "a,b,c = 11,12,13\n",
        "s= (a+b+c)/2\n",
        "area= (s*(s-a)*(s-b)*(s-c)) ** 0.5\n",
        "print('The area of the triangle is %0.2f' %area)"
      ],
      "metadata": {
        "colab": {
          "base_uri": "https://localhost:8080/"
        },
        "id": "ktCOMwpWEWXs",
        "outputId": "25471d07-c2ea-4237-a709-b985c9b347a2"
      },
      "execution_count": null,
      "outputs": [
        {
          "output_type": "stream",
          "name": "stdout",
          "text": [
            "The area of the triangle is 61.48\n"
          ]
        }
      ]
    },
    {
      "cell_type": "code",
      "source": [
        "a = b = c ='same'\n",
        "print(a)\n",
        "print(b)\n",
        "print(c)"
      ],
      "metadata": {
        "colab": {
          "base_uri": "https://localhost:8080/"
        },
        "id": "5uUHnNH-Ev_H",
        "outputId": "1a5148f3-ba05-4ebe-f5c6-491461854f13"
      },
      "execution_count": null,
      "outputs": [
        {
          "output_type": "stream",
          "name": "stdout",
          "text": [
            "same\n",
            "same\n",
            "same\n"
          ]
        }
      ]
    },
    {
      "cell_type": "code",
      "source": [
        "x=(1==True)\n",
        "y=(1==False)\n",
        "a=True+4\n",
        "b=False+10\n",
        "print(\"x is\",x)\n",
        "print(\"y is\",y)\n",
        "print(\"a:\",a)\n",
        "print(\"b:\",b)"
      ],
      "metadata": {
        "colab": {
          "base_uri": "https://localhost:8080/"
        },
        "id": "58fGNIogE8dX",
        "outputId": "73a4dfc1-d782-4efa-e50f-7981fa9c57ab"
      },
      "execution_count": null,
      "outputs": [
        {
          "output_type": "stream",
          "name": "stdout",
          "text": [
            "x is True\n",
            "y is False\n",
            "a: 5\n",
            "b: 10\n"
          ]
        }
      ]
    },
    {
      "cell_type": "code",
      "source": [
        ""
      ],
      "metadata": {
        "id": "brqQWEY-FA9_"
      },
      "execution_count": null,
      "outputs": []
    },
    {
      "cell_type": "code",
      "source": [
        "website=\"mdfazil.com\"\n",
        "print(website)\n",
        "website=\"amdfazil/portfolio.github.io\"\n",
        "print(website)"
      ],
      "metadata": {
        "id": "YME4kjccFBAZ"
      },
      "execution_count": null,
      "outputs": []
    },
    {
      "cell_type": "code",
      "source": [
        "def maxOfTwo(x, y):\n",
        "  if x > y:\n",
        "    return x\n",
        "  return y\n",
        "def maxOfThree(x,y,z):\n",
        "  return maxOfTwo(x, maxOfTwo(y,z))\n",
        "print(maxOfThree(3,5,7))"
      ],
      "metadata": {
        "colab": {
          "base_uri": "https://localhost:8080/"
        },
        "id": "xOFINAKnFFFw",
        "outputId": "4663f4b0-8978-45e2-ff1a-a3e9b43b364a"
      },
      "execution_count": null,
      "outputs": [
        {
          "output_type": "stream",
          "name": "stdout",
          "text": [
            "7\n"
          ]
        }
      ]
    },
    {
      "cell_type": "code",
      "source": [
        "def sum(numbers):\n",
        "  total = 0\n",
        "  for x in numbers:\n",
        "    total += x \n",
        "  return total\n",
        "print(sum((1,2,3,4,5,6)))"
      ],
      "metadata": {
        "colab": {
          "base_uri": "https://localhost:8080/"
        },
        "id": "wo2zR5VWFqg_",
        "outputId": "2eb77f6f-1ec3-458e-f68f-b218b7780473"
      },
      "execution_count": null,
      "outputs": [
        {
          "output_type": "stream",
          "name": "stdout",
          "text": [
            "21\n"
          ]
        }
      ]
    },
    {
      "cell_type": "code",
      "source": [
        "def sum(numbers):\n",
        "  total = 1\n",
        "  for x in numbers:\n",
        "    total *= x \n",
        "  return total\n",
        "print(sum((2,3,4,5,6)))"
      ],
      "metadata": {
        "colab": {
          "base_uri": "https://localhost:8080/"
        },
        "id": "LyX4KLncFxCv",
        "outputId": "f8cfc273-f8c9-4a05-b6f2-fbd0dca6f728"
      },
      "execution_count": null,
      "outputs": [
        {
          "output_type": "stream",
          "name": "stdout",
          "text": [
            "720\n"
          ]
        }
      ]
    },
    {
      "cell_type": "code",
      "source": [
        "def strRev(str):\n",
        "\n",
        "  revstr=''\n",
        "  index = len(str)\n",
        "  while index > 0:\n",
        "    revstr += str[index - 1]\n",
        "    index = index -1\n",
        "  return revstr\n",
        "print(strRev('mdfazil'));"
      ],
      "metadata": {
        "colab": {
          "base_uri": "https://localhost:8080/"
        },
        "id": "qSbKIRjKF1B4",
        "outputId": "b636c68c-2aca-46b6-deaf-98b379b989e4"
      },
      "execution_count": null,
      "outputs": [
        {
          "output_type": "stream",
          "name": "stdout",
          "text": [
            "lizafdm\n"
          ]
        }
      ]
    },
    {
      "cell_type": "code",
      "source": [
        "def factorial(n):\n",
        "    if n == 0:\n",
        "        return 1\n",
        "    else:\n",
        "        return n * factorial(n-1)\n",
        "n=int(input(\"Enter a number to compute the factiorial : \"))\n",
        "print(factorial(n))"
      ],
      "metadata": {
        "colab": {
          "base_uri": "https://localhost:8080/"
        },
        "id": "DVFXd9lpF5s3",
        "outputId": "4c626df3-4e79-4c82-802d-cb1bd118fcc8"
      },
      "execution_count": null,
      "outputs": [
        {
          "output_type": "stream",
          "name": "stdout",
          "text": [
            "Enter a number to compute the factiorial : 7\n",
            "5040\n"
          ]
        }
      ]
    },
    {
      "cell_type": "code",
      "source": [
        "def test_range(n):\n",
        "    if n in range(11,20):\n",
        "        print( \" %s is in the range\"%str(n))\n",
        "    else :\n",
        "        print(\"The number is outside the given range.\")\n",
        "test_range(5)"
      ],
      "metadata": {
        "colab": {
          "base_uri": "https://localhost:8080/"
        },
        "id": "WpGsGSr_F9gI",
        "outputId": "b15799bb-8d57-4b10-97f4-5641c967a998"
      },
      "execution_count": null,
      "outputs": [
        {
          "output_type": "stream",
          "name": "stdout",
          "text": [
            "The number is outside the given range.\n"
          ]
        }
      ]
    },
    {
      "cell_type": "code",
      "source": [
        "def string_test(s):\n",
        "    d={\"upperCase\":0, \"lowerCase\":0}\n",
        "    for c in s:\n",
        "        if c.isupper():\n",
        "           d[\"upperCase\"]+=1\n",
        "        elif c.islower():\n",
        "           d[\"lowerCase\"]+=1\n",
        "        else:\n",
        "           pass\n",
        "    print (\"Original String : \", s)\n",
        "    print (\"No. of Upper case characters : \", d[\"upperCase\"])\n",
        "    print (\"No. of Lower case Characters : \", d[\"lowerCase\"])\n",
        "\n",
        "string_test('We Are Software Developers')"
      ],
      "metadata": {
        "colab": {
          "base_uri": "https://localhost:8080/"
        },
        "id": "5-nonDnXGA3_",
        "outputId": "07224194-08f7-47e6-9009-100391cce478"
      },
      "execution_count": null,
      "outputs": [
        {
          "output_type": "stream",
          "name": "stdout",
          "text": [
            "Original String :  We Are Software Developers\n",
            "No. of Upper case characters :  4\n",
            "No. of Lower case Characters :  19\n"
          ]
        }
      ]
    },
    {
      "cell_type": "code",
      "source": [
        "def uniqueList(l):\n",
        "  x = []\n",
        "  for a in l:\n",
        "    if a not in x:\n",
        "      x.append(a)\n",
        "  return x\n",
        "\n",
        "print(uniqueList([1,2,3,3,3,3,4,5]))"
      ],
      "metadata": {
        "colab": {
          "base_uri": "https://localhost:8080/"
        },
        "id": "90ShDAWqGCKf",
        "outputId": "7b65ad6d-a114-4546-991a-06728ff8ffe9"
      },
      "execution_count": null,
      "outputs": [
        {
          "output_type": "stream",
          "name": "stdout",
          "text": [
            "[1, 2, 3, 4, 5]\n"
          ]
        }
      ]
    },
    {
      "cell_type": "code",
      "source": [
        "def testPrime(n):\n",
        "    if (n==1):\n",
        "        return False;\n",
        "    elif (n==2):\n",
        "        return True;\n",
        "    else:\n",
        "        for x in range(2,n):\n",
        "            if(n % x==0):\n",
        "                return False;\n",
        "        return True;             \n",
        "print(testPrime(23))"
      ],
      "metadata": {
        "colab": {
          "base_uri": "https://localhost:8080/"
        },
        "id": "_ku4HiwTGJxm",
        "outputId": "3a71b999-2f5e-46a3-b0b8-65f7a96311ed"
      },
      "execution_count": null,
      "outputs": [
        {
          "output_type": "stream",
          "name": "stdout",
          "text": [
            "True\n"
          ]
        }
      ]
    },
    {
      "cell_type": "code",
      "source": [
        "def isEvenNum(l):\n",
        "    enum = []\n",
        "    for n in l:\n",
        "        if n % 2 == 0:\n",
        "            enum.append(n)\n",
        "    return enum\n",
        "print(isEvenNum([1, 2, 3, 4, 5, 6, 7, 8, 9]))"
      ],
      "metadata": {
        "colab": {
          "base_uri": "https://localhost:8080/"
        },
        "id": "D_SAJRu0GMm_",
        "outputId": "1733051c-11b2-4a51-bbb7-142017fa4884"
      },
      "execution_count": null,
      "outputs": [
        {
          "output_type": "stream",
          "name": "stdout",
          "text": [
            "[2, 4, 6, 8]\n"
          ]
        }
      ]
    },
    {
      "cell_type": "code",
      "source": [
        "def perfectNumber(n):\n",
        "    sum = 0\n",
        "    for x in range(1, n):\n",
        "        if n % x == 0:\n",
        "            sum += x\n",
        "    return sum == n\n",
        "print(perfectNumber(6))"
      ],
      "metadata": {
        "colab": {
          "base_uri": "https://localhost:8080/"
        },
        "id": "c6CXMs1dGQt3",
        "outputId": "92138020-e524-49a5-eaaf-343b9def4b53"
      },
      "execution_count": null,
      "outputs": [
        {
          "output_type": "stream",
          "name": "stdout",
          "text": [
            "True\n"
          ]
        }
      ]
    },
    {
      "cell_type": "code",
      "source": [
        "def isPalindrome(string):\n",
        "\tleft_pos = 0\n",
        "\tright_pos = len(string) - 1\n",
        "\t\n",
        "\twhile right_pos >= left_pos:\n",
        "\t\tif not string[left_pos] == string[right_pos]:\n",
        "\t\t\treturn False\n",
        "\t\tleft_pos += 1\n",
        "\t\tright_pos -= 1\n",
        "\treturn True\n",
        "print(isPalindrome('aza'))"
      ],
      "metadata": {
        "colab": {
          "base_uri": "https://localhost:8080/"
        },
        "id": "XC-9jGcYGTyZ",
        "outputId": "df4900c9-6eac-4145-9c96-78de08db7bde"
      },
      "execution_count": null,
      "outputs": [
        {
          "output_type": "stream",
          "name": "stdout",
          "text": [
            "True\n"
          ]
        }
      ]
    },
    {
      "cell_type": "code",
      "source": [
        "def pascalTriangle(n):\n",
        "   trow = [1]\n",
        "   y = [0]\n",
        "   for x in range(max(n,0)):\n",
        "      print(trow)\n",
        "      trow=[l+r for l,r in zip(trow+y, y+trow)]\n",
        "   return n>=1\n",
        "pascalTriangle(6)"
      ],
      "metadata": {
        "colab": {
          "base_uri": "https://localhost:8080/"
        },
        "id": "sFMb17O7GZcY",
        "outputId": "4fc7ef64-840b-4808-c07d-f54dc42ea55e"
      },
      "execution_count": null,
      "outputs": [
        {
          "output_type": "stream",
          "name": "stdout",
          "text": [
            "[1]\n",
            "[1, 1]\n",
            "[1, 2, 1]\n",
            "[1, 3, 3, 1]\n",
            "[1, 4, 6, 4, 1]\n",
            "[1, 5, 10, 10, 5, 1]\n"
          ]
        },
        {
          "output_type": "execute_result",
          "data": {
            "text/plain": [
              "True"
            ]
          },
          "metadata": {},
          "execution_count": 22
        }
      ]
    },
    {
      "cell_type": "code",
      "source": [
        "import string, sys\n",
        "def ispangram(str1, alphabet=string.ascii_lowercase):\n",
        "    alphaset = set(alphabet)\n",
        "    return alphaset <= set(str1.lower())\n",
        " \n",
        "print ( ispangram('The quick brown fox jumps over the lazy dog'));"
      ],
      "metadata": {
        "colab": {
          "base_uri": "https://localhost:8080/"
        },
        "id": "XFFxzMQeGgD3",
        "outputId": "f42da25f-f6f0-4cb4-983c-607cb58dd5df"
      },
      "execution_count": null,
      "outputs": [
        {
          "output_type": "stream",
          "name": "stdout",
          "text": [
            "True\n"
          ]
        }
      ]
    },
    {
      "cell_type": "code",
      "source": [
        "items=[n for n in input().split('-')]\n",
        "items.sort()\n",
        "print('-'.join(items))"
      ],
      "metadata": {
        "colab": {
          "base_uri": "https://localhost:8080/"
        },
        "id": "Q2lICaTaGh9o",
        "outputId": "debc8bb3-712c-445f-9cbd-f316f4e6329a"
      },
      "execution_count": null,
      "outputs": [
        {
          "output_type": "stream",
          "name": "stdout",
          "text": [
            "h-i\n",
            "h-i\n"
          ]
        }
      ]
    },
    {
      "cell_type": "code",
      "source": [
        "def printValues():\n",
        "\tl = list()\n",
        "\tfor i in range(1,21):\n",
        "\t\tl.append(i**2)\n",
        "\tprint(l)\n",
        "\t\t\n",
        "printValues()"
      ],
      "metadata": {
        "colab": {
          "base_uri": "https://localhost:8080/"
        },
        "id": "xp69MPfZGkIo",
        "outputId": "aad8502c-099d-49d1-ca99-5ce26d32a693"
      },
      "execution_count": null,
      "outputs": [
        {
          "output_type": "stream",
          "name": "stdout",
          "text": [
            "[1, 4, 9, 16, 25, 36, 49, 64, 81, 100, 121, 144, 169, 196, 225, 256, 289, 324, 361, 400]\n"
          ]
        }
      ]
    },
    {
      "cell_type": "code",
      "source": [
        "def make_bold(fn):\n",
        "    def wrapped():\n",
        "        return \"<b>\" + fn() + \"</b>\"\n",
        "    return wrapped\n",
        "\n",
        "def make_italic(fn):\n",
        "    def wrapped():\n",
        "        return \"<i>\" + fn() + \"</i>\"\n",
        "    return wrapped\n",
        "\n",
        "def make_underline(fn):\n",
        "    def wrapped():\n",
        "        return \"<u>\" + fn() + \"</u>\"\n",
        "    return wrapped\n",
        "@make_bold\n",
        "@make_italic\n",
        "@make_underline\n",
        "def hello():\n",
        "    return \"hello world\"\n",
        "print(hello())"
      ],
      "metadata": {
        "colab": {
          "base_uri": "https://localhost:8080/"
        },
        "id": "mpIS3lrFGotK",
        "outputId": "bd9ffdb0-eeb6-41c2-edcf-8a0e801e9952"
      },
      "execution_count": null,
      "outputs": [
        {
          "output_type": "stream",
          "name": "stdout",
          "text": [
            "<b><i><u>hello world</u></i></b>\n"
          ]
        }
      ]
    },
    {
      "cell_type": "code",
      "source": [
        "myCode = 'print(\"hello world\")'\n",
        "code = \"\"\"\n",
        "def mutiply(x,y):\n",
        "    return x*y\n",
        "\n",
        "print('Multiply of 2 and 3 is: ',mutiply(2,3))\n",
        "\"\"\"\n",
        "exec(myCode)\n",
        "exec(code)"
      ],
      "metadata": {
        "colab": {
          "base_uri": "https://localhost:8080/"
        },
        "id": "SnuX49E8GspH",
        "outputId": "b075ad22-3758-49ab-d015-48739e0890da"
      },
      "execution_count": null,
      "outputs": [
        {
          "output_type": "stream",
          "name": "stdout",
          "text": [
            "hello world\n",
            "Multiply of 2 and 3 is:  6\n"
          ]
        }
      ]
    },
    {
      "cell_type": "code",
      "source": [
        "def test(a):\n",
        "        def add(b):\n",
        "                nonlocal a\n",
        "                a += 1\n",
        "                return a+b\n",
        "        return add\n",
        "func= test(4)\n",
        "print(func(4))"
      ],
      "metadata": {
        "colab": {
          "base_uri": "https://localhost:8080/"
        },
        "id": "jDTvYnmRGy3L",
        "outputId": "56ab6fd1-079e-4a88-dfac-4e21b8b29530"
      },
      "execution_count": null,
      "outputs": [
        {
          "output_type": "stream",
          "name": "stdout",
          "text": [
            "9\n"
          ]
        }
      ]
    },
    {
      "cell_type": "code",
      "source": [
        "def abc():\n",
        "    x = 1\n",
        "    y = 2\n",
        "    str1= \"w3resource\"\n",
        "    print(\"Python Exercises\")\n",
        "\n",
        "print(abc.__code__.co_nlocals)"
      ],
      "metadata": {
        "colab": {
          "base_uri": "https://localhost:8080/"
        },
        "id": "2aY6yNuJHAGn",
        "outputId": "ac6f89b3-5bd6-450e-9a89-77a3fd0abe2d"
      },
      "execution_count": null,
      "outputs": [
        {
          "output_type": "stream",
          "name": "stdout",
          "text": [
            "3\n"
          ]
        }
      ]
    },
    {
      "cell_type": "code",
      "source": [
        "from time import sleep\n",
        "import math\n",
        "def delay(fn, ms, *args):\n",
        "  sleep(ms / 1000)\n",
        "  return fn(*args)\n",
        "print(\"Square root after specific miliseconds:\") \n",
        "print(delay(lambda x: math.sqrt(x), 100, 16))\n",
        "print(delay(lambda x: math.sqrt(x), 1000, 100))\n",
        "print(delay(lambda x: math.sqrt(x), 2000, 25100))\n"
      ],
      "metadata": {
        "colab": {
          "base_uri": "https://localhost:8080/"
        },
        "id": "IDZ64r7_Hcaw",
        "outputId": "61286cee-80a8-4c46-f4b9-228c2786c71e"
      },
      "execution_count": null,
      "outputs": [
        {
          "output_type": "stream",
          "name": "stdout",
          "text": [
            "Square root after specific miliseconds:\n",
            "4.0\n",
            "10.0\n",
            "158.42979517754858\n"
          ]
        }
      ]
    },
    {
      "cell_type": "code",
      "source": [
        "print(\"Choice 1: Add, 2: Subraction, 3: Division, 4: Multiplication, 5: Quit\")\n",
        "n1 = input(\"Enter the choice of Operation :\")\n",
        "n = int(n1)\n",
        "if (n == 1):\n",
        "  print(\"You have chosen addition Option....\")\n",
        "  a1 = input(\"Enter the value for A :\")\n",
        "  b1 = input(\"Enter the value for B :\")\n",
        "  a = int(a1)\n",
        "  b = int(b1)\n",
        "  c = a + b\n",
        "  print(\"The Result of \",a,\" + \",b,\" is \",c)\n",
        "elif (n == 2):\n",
        "  print(\"You have chosen subraction Option....\")\n",
        "  a1 = input(\"Enter the value for A :\")\n",
        "  b1 = input(\"Enter the value for B :\")\n",
        "  a = int(a1)\n",
        "  b = int(b1)\n",
        "  c = a - b\n",
        "  print(\"The Result of \",a,\" - \",b,\" is \",c)\n",
        "elif (n == 3):\n",
        "  print(\"You have chosen division Option....\")\n",
        "  a1 = input(\"Enter the value for A :\")\n",
        "  b1 = input(\"Enter the value for B :\")\n",
        "  a = int(a1)\n",
        "  b = int(b1)\n",
        "  c = a * b\n",
        "  print(\"The Result of \",a,\" / \",b,\" is \",c)\n",
        "elif (n == 4):\n",
        "  print(\"You have chosen multiplication Option....\")\n",
        "  a1 = input(\"Enter the value for A :\")\n",
        "  b1 = input(\"Enter the value for B :\")\n",
        "  a = int(a1)\n",
        "  b = int(b1)\n",
        "  c = a / b\n",
        "  print(\"The Result of \",a,\" * \",b,\" is \",c)\n",
        "elif (n == 5):\n",
        "  print(\"Exited\")\n",
        "  exit()\n",
        "else:\n",
        "  print(\"You have entered a wrong number\")"
      ],
      "metadata": {
        "colab": {
          "base_uri": "https://localhost:8080/"
        },
        "id": "C_LmsImwJBbI",
        "outputId": "91d2f5c1-539c-46a9-c38e-237295489883"
      },
      "execution_count": null,
      "outputs": [
        {
          "output_type": "stream",
          "name": "stdout",
          "text": [
            "Choice 1: Add, 2: Subraction, 3: Division, 4: Multiplication, 5: Quit\n",
            "Enter the choice of Operation :2\n",
            "You have chosen subraction Option....\n",
            "Enter the value for A :20\n",
            "Enter the value for B :18\n",
            "The Result of  20  -  18  is  2\n"
          ]
        }
      ]
    },
    {
      "cell_type": "code",
      "source": [
        "#boolean expression\n",
        "a=True\n",
        "b=False\n",
        "print('a= ',a,'b= ',b)\n",
        "a=False;\n",
        "print('a= ',a,'b= ',b)"
      ],
      "metadata": {
        "id": "y8wh3eQ7pbhO"
      },
      "execution_count": null,
      "outputs": []
    },
    {
      "cell_type": "code",
      "source": [
        "# Get two integers from the user\n",
        "dividend, divisor = eval(input('Please enter two to divide: '))\n",
        "# If possible, divide them and print the result\n",
        "if divisor != 0:\n",
        "  print(dividend,'/',divisor,' = ', dividend/divisor)\n",
        "else:\n",
        "  print('Divsion by is not allowed.')"
      ],
      "metadata": {
        "id": "bZ8lOuNWpc6s"
      },
      "execution_count": null,
      "outputs": []
    },
    {
      "cell_type": "code",
      "source": [
        "#nested loop\n",
        "print(\"     1  2  3  4  5  6  7  8  9  10\")\n",
        "print(\"    <---------------------------->\")\n",
        "for row in range(1,11):\n",
        "  if row<10:\n",
        "    print(\" \",end=\" \")\n",
        "    for column in range(1,11):\n",
        "      product=row*column;\n",
        "      if product<100:\n",
        "        print(end=\" \")\n",
        "      if product<10:\n",
        "        print(end=\" \")\n",
        "      print(product,end=\" \")\n",
        "    print()"
      ],
      "metadata": {
        "id": "D3EJhBt0pc-y"
      },
      "execution_count": null,
      "outputs": []
    },
    {
      "cell_type": "code",
      "source": [
        "#nested loop\n",
        "print(\"     1  2  3  4  5  6  7  8  9  10\")\n",
        "print(\"    <---------------------------->\")\n",
        "for row in range(1,11):\n",
        "  if row<10:\n",
        "    print(\" \",end=\" \")\n",
        "    for column in range(1,11):\n",
        "      product=row*column;\n",
        "      if product<100:\n",
        "        print(end=\" \")\n",
        "      if product<10:\n",
        "        print(end=\" \")\n",
        "      print(product,end=\" \")\n",
        "    print()"
      ],
      "metadata": {
        "id": "cot7MOpgpdDH",
        "outputId": "a5467dd8-d1f1-4300-b2e5-fab9ea9e3677",
        "colab": {
          "base_uri": "https://localhost:8080/"
        }
      },
      "execution_count": 1,
      "outputs": [
        {
          "output_type": "stream",
          "name": "stdout",
          "text": [
            "     1  2  3  4  5  6  7  8  9  10\n",
            "    <---------------------------->\n",
            "    1   2   3   4   5   6   7   8   9  10 \n",
            "    2   4   6   8  10  12  14  16  18  20 \n",
            "    3   6   9  12  15  18  21  24  27  30 \n",
            "    4   8  12  16  20  24  28  32  36  40 \n",
            "    5  10  15  20  25  30  35  40  45  50 \n",
            "    6  12  18  24  30  36  42  48  54  60 \n",
            "    7  14  21  28  35  42  49  56  63  70 \n",
            "    8  16  24  32  40  48  56  64  72  80 \n",
            "    9  18  27  36  45  54  63  72  81  90 \n"
          ]
        }
      ]
    },
    {
      "cell_type": "code",
      "source": [
        "#while \n",
        "entry=0\n",
        "sum=0\n",
        "print(\"Enter numbers to sum, negative number ends list: \")\n",
        "while entry >=0:\n",
        "  entry =eval(input())\n",
        "  if entry >=0:\n",
        "    sum+=entry\n",
        "print(\"sum=\",sum)"
      ],
      "metadata": {
        "id": "c3DlwVixpdF-",
        "outputId": "74660b10-54bd-4720-ef22-8bc8ef4a7e26",
        "colab": {
          "base_uri": "https://localhost:8080/"
        }
      },
      "execution_count": 3,
      "outputs": [
        {
          "output_type": "stream",
          "name": "stdout",
          "text": [
            "Enter numbers to sum, negative number ends list: \n",
            "7\n",
            "7\n",
            "-9\n",
            "sum= 14\n"
          ]
        }
      ]
    },
    {
      "cell_type": "code",
      "source": [
        "#elif statement\n",
        "value=eval(input(\"Please enter an integer in the range 0....5: \"))\n",
        "if value<0:\n",
        "  print(\"To0o small\")\n",
        "else:\n",
        "  if value ==0:\n",
        "    print(\"zero\")\n",
        "  else:\n",
        "    if value==1:\n",
        "      print(\"one\")\n",
        "    else:\n",
        "      if value ==2:\n",
        "        print(\"two\")\n",
        "      else:\n",
        "        if value==3:\n",
        "          print(\"three\")\n",
        "        else:\n",
        "          if value==4:\n",
        "            print(\"four\")\n",
        "          else:\n",
        "            if value==5:\n",
        "              print(\"five\")\n",
        "            else:\n",
        "              print(\"too large\")\n",
        "  print(\"done\")"
      ],
      "metadata": {
        "id": "S3PXVbilpdJQ",
        "outputId": "c58a75da-78de-4137-92fa-82c9cde76afa",
        "colab": {
          "base_uri": "https://localhost:8080/"
        }
      },
      "execution_count": 4,
      "outputs": [
        {
          "output_type": "stream",
          "name": "stdout",
          "text": [
            "Please enter an integer in the range 0....5: 4\n",
            "four\n",
            "done\n"
          ]
        }
      ]
    },
    {
      "cell_type": "code",
      "source": [
        "#Declare a variable\n",
        "Number=25\n",
        "Name=\"Kiran\"\n",
        "B=3.5\n",
        "print(Number)\n",
        "print(Name)\n",
        "print(B)"
      ],
      "metadata": {
        "id": "I1bmD4ZapdNV",
        "outputId": "ad43cfbe-1b35-4170-9311-cca26bfd4231",
        "colab": {
          "base_uri": "https://localhost:8080/"
        }
      },
      "execution_count": 5,
      "outputs": [
        {
          "output_type": "stream",
          "name": "stdout",
          "text": [
            "25\n",
            "Kiran\n",
            "3.5\n"
          ]
        }
      ]
    },
    {
      "cell_type": "code",
      "source": [
        "#Redeclare a variable\n",
        "Name=\"Python\"\n",
        "print(Name)"
      ],
      "metadata": {
        "id": "CuDWyxNHpdQZ",
        "outputId": "2153097a-dab8-4d7d-efb1-de2cc779dda0",
        "colab": {
          "base_uri": "https://localhost:8080/"
        }
      },
      "execution_count": 6,
      "outputs": [
        {
          "output_type": "stream",
          "name": "stdout",
          "text": [
            "Python\n"
          ]
        }
      ]
    },
    {
      "cell_type": "code",
      "source": [
        "#Multiple assignment\n",
        "x=y=z=\"SoftwareTestingHelp\"\n",
        "print(x)\n",
        "print(y)\n",
        "print(z)\n",
        "a,b,c=5,3.2,\"Hello\"\n",
        "print(a)\n",
        "print(b)\n",
        "print(c)"
      ],
      "metadata": {
        "id": "-LXfdBNMpdTG",
        "outputId": "b7f64c66-60d4-4a33-dfed-c86624cce169",
        "colab": {
          "base_uri": "https://localhost:8080/"
        }
      },
      "execution_count": 7,
      "outputs": [
        {
          "output_type": "stream",
          "name": "stdout",
          "text": [
            "SoftwareTestingHelp\n",
            "SoftwareTestingHelp\n",
            "SoftwareTestingHelp\n",
            "5\n",
            "3.2\n",
            "Hello\n"
          ]
        }
      ]
    },
    {
      "cell_type": "code",
      "source": [
        "#Numbers\n",
        "a=5\n",
        "print(a,\"is of type\",type(a))"
      ],
      "metadata": {
        "id": "V9Yz0i1NpdWg",
        "outputId": "3be1158e-02f0-4fa2-f1e7-2149ee3a0c83",
        "colab": {
          "base_uri": "https://localhost:8080/"
        }
      },
      "execution_count": 8,
      "outputs": [
        {
          "output_type": "stream",
          "name": "stdout",
          "text": [
            "5 is of type <class 'int'>\n"
          ]
        }
      ]
    },
    {
      "cell_type": "code",
      "source": [
        "#String\n",
        "String1=\"Welcome\"\n",
        "String2=\"To python\"\n",
        "print(String1+String2)\n",
        "#slicing\n",
        "print(String1[2:5])"
      ],
      "metadata": {
        "id": "46J9Yqn_qq1H",
        "outputId": "e00f2d24-39fb-4795-c232-c4a33c3fedfb",
        "colab": {
          "base_uri": "https://localhost:8080/"
        }
      },
      "execution_count": 9,
      "outputs": [
        {
          "output_type": "stream",
          "name": "stdout",
          "text": [
            "WelcomeTo python\n",
            "lco\n"
          ]
        }
      ]
    },
    {
      "cell_type": "code",
      "source": [
        "#List\n",
        "List=[2,4,5,5,\"Hi\"]\n",
        "print(\"List[2]\",List[2])"
      ],
      "metadata": {
        "id": "gq5UGuxdqrCq",
        "outputId": "01ce0ce9-7766-487a-d188-0853573d0cfd",
        "colab": {
          "base_uri": "https://localhost:8080/"
        }
      },
      "execution_count": 11,
      "outputs": [
        {
          "output_type": "stream",
          "name": "stdout",
          "text": [
            "List[2] 5\n"
          ]
        }
      ]
    },
    {
      "cell_type": "code",
      "source": [
        "#Tuple\n",
        "Tuple=(50,15,25.6,\"Python\")\n",
        "print(\"Tuple[1]=\",Tuple[1])"
      ],
      "metadata": {
        "id": "Am7qEst8qrLO",
        "outputId": "82734e9e-125b-4b68-e2d0-0ab25a4702c0",
        "colab": {
          "base_uri": "https://localhost:8080/"
        }
      },
      "execution_count": 12,
      "outputs": [
        {
          "output_type": "stream",
          "name": "stdout",
          "text": [
            "Tuple[1]= 15\n"
          ]
        }
      ]
    },
    {
      "cell_type": "code",
      "source": [
        "#Set\n",
        "Set={5,1,2.6,\"python\"}\n",
        "print(Set)"
      ],
      "metadata": {
        "id": "2xxvEdf1qrSO",
        "outputId": "a777b268-9abb-4273-91b2-b9ae64f614f6",
        "colab": {
          "base_uri": "https://localhost:8080/"
        }
      },
      "execution_count": 13,
      "outputs": [
        {
          "output_type": "stream",
          "name": "stdout",
          "text": [
            "{1, 2.6, 5, 'python'}\n"
          ]
        }
      ]
    },
    {
      "cell_type": "code",
      "source": [
        "#Dictionary\n",
        "Dict={1:'Hi',2:7.5,3:'Class'}\n",
        "print(Dict)"
      ],
      "metadata": {
        "id": "vB1gog6cqrVE",
        "outputId": "65970e18-94d6-457e-c84a-0398018b691a",
        "colab": {
          "base_uri": "https://localhost:8080/"
        }
      },
      "execution_count": 14,
      "outputs": [
        {
          "output_type": "stream",
          "name": "stdout",
          "text": [
            "{1: 'Hi', 2: 7.5, 3: 'Class'}\n"
          ]
        }
      ]
    },
    {
      "cell_type": "code",
      "source": [
        "#Arithmetic operators\n",
        "x=15\n",
        "y=10\n",
        "print('x+y=',x+y)\n",
        "print('x-y=',x-y)\n",
        "print('x*y=',x*y)\n",
        "print('x/y=',x/y)\n",
        "print('x//y=',x//y)"
      ],
      "metadata": {
        "id": "c5U0GR5TqrYj",
        "outputId": "0d78f7fb-052d-40ac-a9d6-fb5f646fd604",
        "colab": {
          "base_uri": "https://localhost:8080/"
        }
      },
      "execution_count": 15,
      "outputs": [
        {
          "output_type": "stream",
          "name": "stdout",
          "text": [
            "x+y= 25\n",
            "x-y= 5\n",
            "x*y= 150\n",
            "x/y= 1.5\n",
            "x//y= 1\n"
          ]
        }
      ]
    },
    {
      "cell_type": "code",
      "source": [
        "#comparison Operators\n",
        "x=8\n",
        "y=15\n",
        "print('x>y is',x>y)\n",
        "print('x<y is',x<y)\n",
        "print('x==y is',x==y)\n",
        "print('x!=y is',x!=y)\n",
        "print('x>=y is',x>=y)\n",
        "print('x<=y is',x<=y)"
      ],
      "metadata": {
        "id": "JtsF_ZWnqrav",
        "outputId": "8b069820-a20c-4939-ed04-a19826501123",
        "colab": {
          "base_uri": "https://localhost:8080/"
        }
      },
      "execution_count": 16,
      "outputs": [
        {
          "output_type": "stream",
          "name": "stdout",
          "text": [
            "x>y is False\n",
            "x<y is True\n",
            "x==y is False\n",
            "x!=y is True\n",
            "x>=y is False\n",
            "x<=y is True\n"
          ]
        }
      ]
    },
    {
      "cell_type": "code",
      "source": [
        "#logical operators\n",
        "a=True\n",
        "b=False\n",
        "print('a and b is',a and b)\n",
        "print('a or b is',a and b)\n",
        "print('a not b is',a and b)"
      ],
      "metadata": {
        "id": "tPddpY1PqreR",
        "outputId": "28cf059f-9290-4fcb-8124-e872a9b24934",
        "colab": {
          "base_uri": "https://localhost:8080/"
        }
      },
      "execution_count": 17,
      "outputs": [
        {
          "output_type": "stream",
          "name": "stdout",
          "text": [
            "a and b is False\n",
            "a or b is False\n",
            "a not b is False\n"
          ]
        }
      ]
    },
    {
      "cell_type": "code",
      "source": [
        "#identity operator\n",
        "a1=3\n",
        "b1=3\n",
        "a2=\"Python\"\n",
        "b2=\"Python\"\n",
        "a3=[4,5,6]\n",
        "b3=[4,5,6]\n",
        "print(a1 is not b1)\n",
        "print(a2 is b2)\n",
        "print(a3 is b3)"
      ],
      "metadata": {
        "id": "9TGuyTuYpdZc",
        "outputId": "c5a11b35-5f36-49cf-c2fd-573a227bf2ae",
        "colab": {
          "base_uri": "https://localhost:8080/"
        }
      },
      "execution_count": 18,
      "outputs": [
        {
          "output_type": "stream",
          "name": "stdout",
          "text": [
            "False\n",
            "True\n",
            "False\n"
          ]
        }
      ]
    },
    {
      "cell_type": "code",
      "source": [
        "#Membership operator\n",
        "a=\"Python operators\"\n",
        "b={1:'x',2:'y'}\n",
        "print(\"P\" in a)\n",
        "print(1 in b)\n",
        "print('y' in b)"
      ],
      "metadata": {
        "id": "wkU7VZLYra1s",
        "outputId": "4db682b1-e1d1-4361-9b58-dbb9177a433b",
        "colab": {
          "base_uri": "https://localhost:8080/"
        }
      },
      "execution_count": 19,
      "outputs": [
        {
          "output_type": "stream",
          "name": "stdout",
          "text": [
            "True\n",
            "True\n",
            "False\n"
          ]
        }
      ]
    },
    {
      "cell_type": "code",
      "source": [
        "#if statement\n",
        "num=5\n",
        "if( num<10):\n",
        "  print(\"Num is smaller than 10\")"
      ],
      "metadata": {
        "id": "D72MvHx_rbAT",
        "outputId": "394b2ef4-d04a-4d68-bcf7-a5e31556ab4e",
        "colab": {
          "base_uri": "https://localhost:8080/"
        }
      },
      "execution_count": 20,
      "outputs": [
        {
          "output_type": "stream",
          "name": "stdout",
          "text": [
            "Num is smaller than 10\n"
          ]
        }
      ]
    },
    {
      "cell_type": "code",
      "source": [
        "#if-else statement\n",
        "num=5\n",
        "if(num>10):\n",
        "  print(\"number is greater than 10\")\n",
        "else:\n",
        "  print(\"number is less than 10\")"
      ],
      "metadata": {
        "id": "2nOAFBGzrbDl",
        "outputId": "9507514c-44b8-4947-9090-6290ab49110e",
        "colab": {
          "base_uri": "https://localhost:8080/"
        }
      },
      "execution_count": 21,
      "outputs": [
        {
          "output_type": "stream",
          "name": "stdout",
          "text": [
            "number is less than 10\n"
          ]
        }
      ]
    },
    {
      "cell_type": "code",
      "source": [
        "#elif statements\n",
        "num=10\n",
        "if(num==0):\n",
        "  print(\"Number is Zero\")\n",
        "elif(num>5):\n",
        "  print(\"Number is greater than 5\")\n",
        "else:\n",
        "  print(\"Number is smaller than 5\")"
      ],
      "metadata": {
        "id": "7XtKV50vrbId",
        "outputId": "2e453146-8e1a-4934-b403-e30f9e96ee8e",
        "colab": {
          "base_uri": "https://localhost:8080/"
        }
      },
      "execution_count": 22,
      "outputs": [
        {
          "output_type": "stream",
          "name": "stdout",
          "text": [
            "Number is greater than 5\n"
          ]
        }
      ]
    },
    {
      "cell_type": "code",
      "source": [
        "#nested if-else statements\n",
        "num=5\n",
        "if(num>0):\n",
        "  print(\"number is positive\")\n",
        "if(num<10):\n",
        "  print(\"number is less than 10\")"
      ],
      "metadata": {
        "id": "xbhMcXI0rbMv",
        "outputId": "00c084d0-6cf2-42af-d26a-58250d9b9233",
        "colab": {
          "base_uri": "https://localhost:8080/"
        }
      },
      "execution_count": 23,
      "outputs": [
        {
          "output_type": "stream",
          "name": "stdout",
          "text": [
            "number is positive\n",
            "number is less than 10\n"
          ]
        }
      ]
    },
    {
      "cell_type": "code",
      "source": [
        "#elif ladder\n",
        "my_marks=90\n",
        "if(my_marks<35):\n",
        "  print(\"Sorry!,You failed the exam\")\n",
        "elif(my_marks>60 and my_marks>100):\n",
        "  print(\"Passed in First class\")\n",
        "else:\n",
        "  print(\"Passed in First class\")"
      ],
      "metadata": {
        "id": "zHkf-0ZArbPu",
        "outputId": "67c1ebe5-4292-4ad7-8318-ffd2a1efb335",
        "colab": {
          "base_uri": "https://localhost:8080/"
        }
      },
      "execution_count": 24,
      "outputs": [
        {
          "output_type": "stream",
          "name": "stdout",
          "text": [
            "Passed in First class\n"
          ]
        }
      ]
    },
    {
      "cell_type": "code",
      "source": [
        "from google.colab import files\n",
        "upload = files.upload()\n",
        "\n",
        "import pandas as pd\n",
        "import pandas as np\n",
        "import matplotlib.pyplot as plt\n",
        "\n",
        "dataset = pd.read_csv('Salary_Data.csv')\n",
        "x = dataset.iloc[:,0:-1].values\n",
        "y = dataset.iloc[:,1].values\n",
        "\n",
        "from sklearn.model_selection import train_test_split\n",
        "x_train, x_test, y_train, y_test = train_test_split(x,y,test_size=.30, random_state = 0)\n",
        "\n",
        "from sklearn.linear_model import LinearRegression\n",
        "regress = LinearRegression()\n",
        "regress.fit(x_train, y_train)\n",
        "\n",
        "y_pred = regress.predict(x_test)\n",
        "\n",
        "plt.title('Simple Linear Regression')\n",
        "plt.xlabel('Experience')\n",
        "plt.ylabel('Salary')\n",
        "plt.scatter(x_train, y_train, color = 'red')\n",
        "plt.plot(x_train, regress.predict(x_train), color='blue')\n",
        "plt.show()\n",
        "\n",
        "plt.title('Simple linear Regression with Test data')\n",
        "plt.xlabel('Experience')\n",
        "plt.ylabel('Salary')\n",
        "plt.scatter(x_test, y_test, color = 'red')\n",
        "plt.plot(x_test, regress.predict(x_test), color='blue')\n",
        "plt.show()\n",
        "\n",
        "plt.title('Simple linear Regression with Test data and Train slope')\n",
        "plt.xlabel('Experience')\n",
        "plt.ylabel('Salary')\n",
        "plt.scatter(x_test, y_test, color = 'red')\n",
        "plt.plot(x_train, regress.predict(x_train), color='blue')\n",
        "plt.show()"
      ],
      "metadata": {
        "id": "OAFbxVYTrbSi",
        "outputId": "034cf605-62a2-435d-ba81-d23c1b0aed73",
        "colab": {
          "resources": {
            "http://localhost:8080/nbextensions/google.colab/files.js": {
              "data": "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",
              "ok": true,
              "headers": [
                [
                  "content-type",
                  "application/javascript"
                ]
              ],
              "status": 200,
              "status_text": ""
            }
          },
          "base_uri": "https://localhost:8080/",
          "height": 401
        }
      },
      "execution_count": 26,
      "outputs": [
        {
          "output_type": "display_data",
          "data": {
            "text/plain": [
              "<IPython.core.display.HTML object>"
            ],
            "text/html": [
              "\n",
              "     <input type=\"file\" id=\"files-4e3320bd-60ce-4f70-a036-f150cba41f80\" name=\"files[]\" multiple disabled\n",
              "        style=\"border:none\" />\n",
              "     <output id=\"result-4e3320bd-60ce-4f70-a036-f150cba41f80\">\n",
              "      Upload widget is only available when the cell has been executed in the\n",
              "      current browser session. Please rerun this cell to enable.\n",
              "      </output>\n",
              "      <script src=\"/nbextensions/google.colab/files.js\"></script> "
            ]
          },
          "metadata": {}
        },
        {
          "output_type": "error",
          "ename": "KeyboardInterrupt",
          "evalue": "ignored",
          "traceback": [
            "\u001b[0;31m---------------------------------------------------------------------------\u001b[0m",
            "\u001b[0;31mKeyboardInterrupt\u001b[0m                         Traceback (most recent call last)",
            "\u001b[0;32m<ipython-input-26-c2c2c0d9b929>\u001b[0m in \u001b[0;36m<module>\u001b[0;34m()\u001b[0m\n\u001b[1;32m      1\u001b[0m \u001b[0;32mfrom\u001b[0m \u001b[0mgoogle\u001b[0m\u001b[0;34m.\u001b[0m\u001b[0mcolab\u001b[0m \u001b[0;32mimport\u001b[0m \u001b[0mfiles\u001b[0m\u001b[0;34m\u001b[0m\u001b[0;34m\u001b[0m\u001b[0m\n\u001b[0;32m----> 2\u001b[0;31m \u001b[0mupload\u001b[0m \u001b[0;34m=\u001b[0m \u001b[0mfiles\u001b[0m\u001b[0;34m.\u001b[0m\u001b[0mupload\u001b[0m\u001b[0;34m(\u001b[0m\u001b[0;34m)\u001b[0m\u001b[0;34m\u001b[0m\u001b[0;34m\u001b[0m\u001b[0m\n\u001b[0m\u001b[1;32m      3\u001b[0m \u001b[0;34m\u001b[0m\u001b[0m\n\u001b[1;32m      4\u001b[0m \u001b[0;32mimport\u001b[0m \u001b[0mpandas\u001b[0m \u001b[0;32mas\u001b[0m \u001b[0mpd\u001b[0m\u001b[0;34m\u001b[0m\u001b[0;34m\u001b[0m\u001b[0m\n\u001b[1;32m      5\u001b[0m \u001b[0;32mimport\u001b[0m \u001b[0mpandas\u001b[0m \u001b[0;32mas\u001b[0m \u001b[0mnp\u001b[0m\u001b[0;34m\u001b[0m\u001b[0;34m\u001b[0m\u001b[0m\n",
            "\u001b[0;32m/usr/local/lib/python3.7/dist-packages/google/colab/files.py\u001b[0m in \u001b[0;36mupload\u001b[0;34m()\u001b[0m\n\u001b[1;32m     44\u001b[0m   \"\"\"\n\u001b[1;32m     45\u001b[0m \u001b[0;34m\u001b[0m\u001b[0m\n\u001b[0;32m---> 46\u001b[0;31m   \u001b[0muploaded_files\u001b[0m \u001b[0;34m=\u001b[0m \u001b[0m_upload_files\u001b[0m\u001b[0;34m(\u001b[0m\u001b[0mmultiple\u001b[0m\u001b[0;34m=\u001b[0m\u001b[0;32mTrue\u001b[0m\u001b[0;34m)\u001b[0m\u001b[0;34m\u001b[0m\u001b[0;34m\u001b[0m\u001b[0m\n\u001b[0m\u001b[1;32m     47\u001b[0m   \u001b[0;31m# Mapping from original filename to filename as saved locally.\u001b[0m\u001b[0;34m\u001b[0m\u001b[0;34m\u001b[0m\u001b[0;34m\u001b[0m\u001b[0m\n\u001b[1;32m     48\u001b[0m   \u001b[0mlocal_filenames\u001b[0m \u001b[0;34m=\u001b[0m \u001b[0mdict\u001b[0m\u001b[0;34m(\u001b[0m\u001b[0;34m)\u001b[0m\u001b[0;34m\u001b[0m\u001b[0;34m\u001b[0m\u001b[0m\n",
            "\u001b[0;32m/usr/local/lib/python3.7/dist-packages/google/colab/files.py\u001b[0m in \u001b[0;36m_upload_files\u001b[0;34m(multiple)\u001b[0m\n\u001b[1;32m    121\u001b[0m   result = _output.eval_js(\n\u001b[1;32m    122\u001b[0m       'google.colab._files._uploadFiles(\"{input_id}\", \"{output_id}\")'.format(\n\u001b[0;32m--> 123\u001b[0;31m           input_id=input_id, output_id=output_id))\n\u001b[0m\u001b[1;32m    124\u001b[0m   \u001b[0mfiles\u001b[0m \u001b[0;34m=\u001b[0m \u001b[0m_collections\u001b[0m\u001b[0;34m.\u001b[0m\u001b[0mdefaultdict\u001b[0m\u001b[0;34m(\u001b[0m\u001b[0m_six\u001b[0m\u001b[0;34m.\u001b[0m\u001b[0mbinary_type\u001b[0m\u001b[0;34m)\u001b[0m\u001b[0;34m\u001b[0m\u001b[0;34m\u001b[0m\u001b[0m\n\u001b[1;32m    125\u001b[0m \u001b[0;34m\u001b[0m\u001b[0m\n",
            "\u001b[0;32m/usr/local/lib/python3.7/dist-packages/google/colab/output/_js.py\u001b[0m in \u001b[0;36meval_js\u001b[0;34m(script, ignore_result, timeout_sec)\u001b[0m\n\u001b[1;32m     38\u001b[0m   \u001b[0;32mif\u001b[0m \u001b[0mignore_result\u001b[0m\u001b[0;34m:\u001b[0m\u001b[0;34m\u001b[0m\u001b[0;34m\u001b[0m\u001b[0m\n\u001b[1;32m     39\u001b[0m     \u001b[0;32mreturn\u001b[0m\u001b[0;34m\u001b[0m\u001b[0;34m\u001b[0m\u001b[0m\n\u001b[0;32m---> 40\u001b[0;31m   \u001b[0;32mreturn\u001b[0m \u001b[0m_message\u001b[0m\u001b[0;34m.\u001b[0m\u001b[0mread_reply_from_input\u001b[0m\u001b[0;34m(\u001b[0m\u001b[0mrequest_id\u001b[0m\u001b[0;34m,\u001b[0m \u001b[0mtimeout_sec\u001b[0m\u001b[0;34m)\u001b[0m\u001b[0;34m\u001b[0m\u001b[0;34m\u001b[0m\u001b[0m\n\u001b[0m\u001b[1;32m     41\u001b[0m \u001b[0;34m\u001b[0m\u001b[0m\n\u001b[1;32m     42\u001b[0m \u001b[0;34m\u001b[0m\u001b[0m\n",
            "\u001b[0;32m/usr/local/lib/python3.7/dist-packages/google/colab/_message.py\u001b[0m in \u001b[0;36mread_reply_from_input\u001b[0;34m(message_id, timeout_sec)\u001b[0m\n\u001b[1;32m     99\u001b[0m     \u001b[0mreply\u001b[0m \u001b[0;34m=\u001b[0m \u001b[0m_read_next_input_message\u001b[0m\u001b[0;34m(\u001b[0m\u001b[0;34m)\u001b[0m\u001b[0;34m\u001b[0m\u001b[0;34m\u001b[0m\u001b[0m\n\u001b[1;32m    100\u001b[0m     \u001b[0;32mif\u001b[0m \u001b[0mreply\u001b[0m \u001b[0;34m==\u001b[0m \u001b[0m_NOT_READY\u001b[0m \u001b[0;32mor\u001b[0m \u001b[0;32mnot\u001b[0m \u001b[0misinstance\u001b[0m\u001b[0;34m(\u001b[0m\u001b[0mreply\u001b[0m\u001b[0;34m,\u001b[0m \u001b[0mdict\u001b[0m\u001b[0;34m)\u001b[0m\u001b[0;34m:\u001b[0m\u001b[0;34m\u001b[0m\u001b[0;34m\u001b[0m\u001b[0m\n\u001b[0;32m--> 101\u001b[0;31m       \u001b[0mtime\u001b[0m\u001b[0;34m.\u001b[0m\u001b[0msleep\u001b[0m\u001b[0;34m(\u001b[0m\u001b[0;36m0.025\u001b[0m\u001b[0;34m)\u001b[0m\u001b[0;34m\u001b[0m\u001b[0;34m\u001b[0m\u001b[0m\n\u001b[0m\u001b[1;32m    102\u001b[0m       \u001b[0;32mcontinue\u001b[0m\u001b[0;34m\u001b[0m\u001b[0;34m\u001b[0m\u001b[0m\n\u001b[1;32m    103\u001b[0m     if (reply.get('type') == 'colab_reply' and\n",
            "\u001b[0;31mKeyboardInterrupt\u001b[0m: "
          ]
        }
      ]
    },
    {
      "cell_type": "code",
      "source": [
        "#Palindrome\n",
        "string=input((\"Enter a string:\"))\n",
        "if(string==string[::-1]):\n",
        "      print(\"The letter is a palindrome\")\n",
        "else:  \n",
        "      print(\"The letter is not a palindrome\")"
      ],
      "metadata": {
        "id": "PCqwSwThrbVj",
        "outputId": "92e7fa83-efc4-47ac-cbb6-dda7fd528694",
        "colab": {
          "base_uri": "https://localhost:8080/"
        }
      },
      "execution_count": 27,
      "outputs": [
        {
          "output_type": "stream",
          "name": "stdout",
          "text": [
            "Enter a string:56\n",
            "The letter is not a palindrome\n"
          ]
        }
      ]
    },
    {
      "cell_type": "code",
      "source": [
        "#Simple method to reverse a string\n",
        "string1 = input(\"Enter a string\")\n",
        "reversedString = string1[::-1]\n",
        "print(reversedString)"
      ],
      "metadata": {
        "id": "TcSb4xbWrbYF",
        "outputId": "f58ac974-c6c0-4acb-cb95-472084de119f",
        "colab": {
          "base_uri": "https://localhost:8080/"
        }
      },
      "execution_count": 28,
      "outputs": [
        {
          "output_type": "stream",
          "name": "stdout",
          "text": [
            "Enter a string67\n",
            "76\n"
          ]
        }
      ]
    },
    {
      "cell_type": "code",
      "source": [
        "#Prime number\n",
        "num = int(input(\"Enter a number: \"))\n",
        "if num > 1:\n",
        " for i in range(2, num//2):\n",
        "  if (num % i) == 0:\n",
        "   print(num, \"is not a prime number\")\n",
        "   break\n",
        "  else:\n",
        "   print(num, \"is a prime number\")"
      ],
      "metadata": {
        "id": "JTzvk5j-rbcM",
        "outputId": "a1747f78-d521-47b3-f40f-231bce7961d9",
        "colab": {
          "base_uri": "https://localhost:8080/"
        }
      },
      "execution_count": 29,
      "outputs": [
        {
          "output_type": "stream",
          "name": "stdout",
          "text": [
            "Enter a number: 67\n",
            "67 is a prime number\n",
            "67 is a prime number\n",
            "67 is a prime number\n",
            "67 is a prime number\n",
            "67 is a prime number\n",
            "67 is a prime number\n",
            "67 is a prime number\n",
            "67 is a prime number\n",
            "67 is a prime number\n",
            "67 is a prime number\n",
            "67 is a prime number\n",
            "67 is a prime number\n",
            "67 is a prime number\n",
            "67 is a prime number\n",
            "67 is a prime number\n",
            "67 is a prime number\n",
            "67 is a prime number\n",
            "67 is a prime number\n",
            "67 is a prime number\n",
            "67 is a prime number\n",
            "67 is a prime number\n",
            "67 is a prime number\n",
            "67 is a prime number\n",
            "67 is a prime number\n",
            "67 is a prime number\n",
            "67 is a prime number\n",
            "67 is a prime number\n",
            "67 is a prime number\n",
            "67 is a prime number\n",
            "67 is a prime number\n",
            "67 is a prime number\n"
          ]
        }
      ]
    },
    {
      "cell_type": "code",
      "source": [
        "#Reversing string\n",
        "string = input(\"Enter a string : \")\n",
        "string2 = ''\n",
        "i = len(string)-1\n",
        "while(i>=0):\n",
        "  string2 = string2 + string[i]\n",
        "  i-=1\n",
        "print(\"The reversed string is\",string2)"
      ],
      "metadata": {
        "id": "mNdqsLW-rbe0",
        "outputId": "585482cd-1c3a-46fd-b000-77f9b730ee77",
        "colab": {
          "base_uri": "https://localhost:8080/"
        }
      },
      "execution_count": 30,
      "outputs": [
        {
          "output_type": "stream",
          "name": "stdout",
          "text": [
            "Enter a string : 89\n",
            "The reversed string is 98\n"
          ]
        }
      ]
    },
    {
      "cell_type": "code",
      "source": [
        "#Fibonacci series\n",
        "num  = int(input(\"Enter a number : \"))\n",
        "n1, n2 = 0, 1\n",
        "sum = 0\n",
        "if (num<=0):\n",
        "  print(\"Please enter a number greater than zero\")\n",
        "else:\n",
        "  for i in range(0, num):\n",
        "    n1 = n2\n",
        "    n2 = sum\n",
        "    sum = n1 + n2\n",
        "    print(sum, end = \" \")"
      ],
      "metadata": {
        "id": "xwzc-NPGrbiC",
        "outputId": "cb3ffb9b-2b4f-4d99-aabb-82d693d57d30",
        "colab": {
          "base_uri": "https://localhost:8080/"
        }
      },
      "execution_count": 31,
      "outputs": [
        {
          "output_type": "stream",
          "name": "stdout",
          "text": [
            "Enter a number : 567\n",
            "1 1 2 3 5 8 13 21 34 55 89 144 233 377 610 987 1597 2584 4181 6765 10946 17711 28657 46368 75025 121393 196418 317811 514229 832040 1346269 2178309 3524578 5702887 9227465 14930352 24157817 39088169 63245986 102334155 165580141 267914296 433494437 701408733 1134903170 1836311903 2971215073 4807526976 7778742049 12586269025 20365011074 32951280099 53316291173 86267571272 139583862445 225851433717 365435296162 591286729879 956722026041 1548008755920 2504730781961 4052739537881 6557470319842 10610209857723 17167680177565 27777890035288 44945570212853 72723460248141 117669030460994 190392490709135 308061521170129 498454011879264 806515533049393 1304969544928657 2111485077978050 3416454622906707 5527939700884757 8944394323791464 14472334024676221 23416728348467685 37889062373143906 61305790721611591 99194853094755497 160500643816367088 259695496911122585 420196140727489673 679891637638612258 1100087778366101931 1779979416004714189 2880067194370816120 4660046610375530309 7540113804746346429 12200160415121876738 19740274219868223167 31940434634990099905 51680708854858323072 83621143489848422977 135301852344706746049 218922995834555169026 354224848179261915075 573147844013817084101 927372692193078999176 1500520536206896083277 2427893228399975082453 3928413764606871165730 6356306993006846248183 10284720757613717413913 16641027750620563662096 26925748508234281076009 43566776258854844738105 70492524767089125814114 114059301025943970552219 184551825793033096366333 298611126818977066918552 483162952612010163284885 781774079430987230203437 1264937032042997393488322 2046711111473984623691759 3311648143516982017180081 5358359254990966640871840 8670007398507948658051921 14028366653498915298923761 22698374052006863956975682 36726740705505779255899443 59425114757512643212875125 96151855463018422468774568 155576970220531065681649693 251728825683549488150424261 407305795904080553832073954 659034621587630041982498215 1066340417491710595814572169 1725375039079340637797070384 2791715456571051233611642553 4517090495650391871408712937 7308805952221443105020355490 11825896447871834976429068427 19134702400093278081449423917 30960598847965113057878492344 50095301248058391139327916261 81055900096023504197206408605 131151201344081895336534324866 212207101440105399533740733471 343358302784187294870275058337 555565404224292694404015791808 898923707008479989274290850145 1454489111232772683678306641953 2353412818241252672952597492098 3807901929474025356630904134051 6161314747715278029583501626149 9969216677189303386214405760200 16130531424904581415797907386349 26099748102093884802012313146549 42230279526998466217810220532898 68330027629092351019822533679447 110560307156090817237632754212345 178890334785183168257455287891792 289450641941273985495088042104137 468340976726457153752543329995929 757791618667731139247631372100066 1226132595394188293000174702095995 1983924214061919432247806074196061 3210056809456107725247980776292056 5193981023518027157495786850488117 8404037832974134882743767626780173 13598018856492162040239554477268290 22002056689466296922983322104048463 35600075545958458963222876581316753 57602132235424755886206198685365216 93202207781383214849429075266681969 150804340016807970735635273952047185 244006547798191185585064349218729154 394810887814999156320699623170776339 638817435613190341905763972389505493 1033628323428189498226463595560281832 1672445759041379840132227567949787325 2706074082469569338358691163510069157 4378519841510949178490918731459856482 7084593923980518516849609894969925639 11463113765491467695340528626429782121 18547707689471986212190138521399707760 30010821454963453907530667147829489881 48558529144435440119720805669229197641 78569350599398894027251472817058687522 127127879743834334146972278486287885163 205697230343233228174223751303346572685 332825110087067562321196029789634457848 538522340430300790495419781092981030533 871347450517368352816615810882615488381 1409869790947669143312035591975596518914 2281217241465037496128651402858212007295 3691087032412706639440686994833808526209 5972304273877744135569338397692020533504 9663391306290450775010025392525829059713 15635695580168194910579363790217849593217 25299086886458645685589389182743678652930 40934782466626840596168752972961528246147 66233869353085486281758142155705206899077 107168651819712326877926895128666735145224 173402521172797813159685037284371942044301 280571172992510140037611932413038677189525 453973694165307953197296969697410619233826 734544867157818093234908902110449296423351 1188518561323126046432205871807859915657177 1923063428480944139667114773918309212080528 3111581989804070186099320645726169127737705 5034645418285014325766435419644478339818233 8146227408089084511865756065370647467555938 13180872826374098837632191485015125807374171 21327100234463183349497947550385773274930109 34507973060837282187130139035400899082304280 55835073295300465536628086585786672357234389 90343046356137747723758225621187571439538669 146178119651438213260386312206974243796773058 236521166007575960984144537828161815236311727 382699285659014174244530850035136059033084785 619220451666590135228675387863297874269396512 1001919737325604309473206237898433933302481297 1621140188992194444701881625761731807571877809 2623059926317798754175087863660165740874359106 4244200115309993198876969489421897548446236915 6867260041627791953052057353082063289320596021 11111460156937785151929026842503960837766832936 17978720198565577104981084195586024127087428957 29090180355503362256910111038089984964854261893 47068900554068939361891195233676009091941690850 76159080909572301618801306271765994056795952743 123227981463641240980692501505442003148737643593 199387062373213542599493807777207997205533596336 322615043836854783580186309282650000354271239929 522002106210068326179680117059857997559804836265 844617150046923109759866426342507997914076076194 1366619256256991435939546543402365995473880912459 2211236406303914545699412969744873993387956988653 3577855662560905981638959513147239988861837901112 5789092068864820527338372482892113982249794889765 9366947731425726508977331996039353971111632790877 15156039800290547036315704478931467953361427680642 24522987531716273545293036474970821924473060471519 39679027332006820581608740953902289877834488152161 64202014863723094126901777428873111802307548623680 103881042195729914708510518382775401680142036775841 168083057059453008835412295811648513482449585399521 271964099255182923543922814194423915162591622175362 440047156314635932379335110006072428645041207574883 712011255569818855923257924200496343807632829750245 1152058411884454788302593034206568772452674037325128 1864069667454273644225850958407065116260306867075373 3016128079338728432528443992613633888712980904400501 4880197746793002076754294951020699004973287771475874 7896325826131730509282738943634332893686268675876375 12776523572924732586037033894655031898659556447352249 20672849399056463095319772838289364792345825123228624 33449372971981195681356806732944396691005381570580873 54122222371037658776676579571233761483351206693809497 87571595343018854458033386304178158174356588264390370 141693817714056513234709965875411919657707794958199867 229265413057075367692743352179590077832064383222590237 370959230771131880927453318055001997489772178180790104 600224643828207248620196670234592075321836561403380341 971183874599339129547649988289594072811608739584170445 1571408518427546378167846658524186148133445300987550786 2542592393026885507715496646813780220945054040571721231 4114000911454431885883343305337966369078499341559272017 6656593304481317393598839952151746590023553382130993248 10770594215935749279482183257489712959102052723690265265 17427187520417066673081023209641459549125606105821258513 28197781736352815952563206467131172508227658829511523778 45624969256769882625644229676772632057353264935332782291 73822750993122698578207436143903804565580923764844306069 119447720249892581203851665820676436622934188700177088360 193270471243015279782059101964580241188515112465021394429 312718191492907860985910767785256677811449301165198482789 505988662735923140767969869749836918999964413630219877218 818706854228831001753880637535093596811413714795418360007 1324695516964754142521850507284930515811378128425638237225 2143402371193585144275731144820024112622791843221056597232 3468097888158339286797581652104954628434169971646694834457 5611500259351924431073312796924978741056961814867751431689 9079598147510263717870894449029933369491131786514446266146 14691098406862188148944207245954912110548093601382197697835 23770696554372451866815101694984845480039225387896643963981 38461794961234640015759308940939757590587318989278841661816 62232491515607091882574410635924603070626544377175485625797 100694286476841731898333719576864360661213863366454327287613 162926777992448823780908130212788963731840407743629812913410 263621064469290555679241849789653324393054271110084140201023 426547842461739379460149980002442288124894678853713953114433 690168906931029935139391829792095612517948949963798093315456 1116716749392769314599541809794537900642843628817512046429889 1806885656323799249738933639586633513160792578781310139745345 2923602405716568564338475449381171413803636207598822186175234 4730488062040367814077409088967804926964428786380132325920579 7654090467756936378415884538348976340768064993978954512095813 12384578529797304192493293627316781267732493780359086838016392 20038668997554240570909178165665757608500558774338041350112205 32423247527351544763402471792982538876233052554697128188128597 52461916524905785334311649958648296484733611329035169538240802 84885164052257330097714121751630835360966663883732297726369399 137347080577163115432025771710279131845700275212767467264610201 222232244629420445529739893461909967206666939096499764990979600 359579325206583560961765665172189099052367214309267232255589801 581811569836004006491505558634099066259034153405766997246569401 941390895042587567453271223806288165311401367715034229502159202 1523202464878591573944776782440387231570435521120801226748728603 2464593359921179141398048006246675396881836888835835456250887805 3987795824799770715342824788687062628452272409956636682999616408 6452389184720949856740872794933738025334109298792472139250504213 10440185009520720572083697583620800653786381708749108822250120621 16892574194241670428824570378554538679120491007541580961500624834 27332759203762391000908267962175339332906872716290689783750745455 44225333398004061429732838340729878012027363723832270745251370289 71558092601766452430641106302905217344934236440122960529002115744 115783425999770513860373944643635095356961600163955231274253486033 187341518601536966291015050946540312701895836604078191803255601777 303124944601307480151388995590175408058857436768033423077509087810 490466463202844446442404046536715720760753273372111614880764689587 793591407804151926593793042126891128819610710140145037958273777397 1284057871006996373036197088663606849580363983512256652839038466984 2077649278811148299629990130790497978399974693652401690797312244381 3361707149818144672666187219454104827980338677164658343636350711365 5439356428629292972296177350244602806380313370817060034433662955746 8801063578447437644962364569698707634360652047981718378070013667111 14240420007076730617258541919943310440740965418798778412503676622857 23041483585524168262220906489642018075101617466780496790573690289968 37281903592600898879479448409585328515842582885579275203077366912825 60323387178125067141700354899227346590944200352359771993651057202793 97605290770725966021179803308812675106786783237939047196728424115618 157928677948851033162880158208040021697730983590298819190379481318411 255533968719576999184059961516852696804517766828237866387107905434029 413462646668428032346940119724892718502248750418536685577487386752440 668996615388005031531000081241745415306766517246774551964595292186469 1082459262056433063877940200966638133809015267665311237542082678938909 1751455877444438095408940282208383549115781784912085789506677971125378 2833915139500871159286880483175021682924797052577397027048760650064287 4585371016945309254695820765383405232040578837489482816555438621189665 7419286156446180413982701248558426914965375890066879843604199271253952 12004657173391489668678522013941832147005954727556362660159637892443617 19423943329837670082661223262500259061971330617623242503763837163697569 31428600503229159751339745276442091208977285345179605163923475056141186 50852543833066829834000968538942350270948615962802847667687312219838755 82281144336295989585340713815384441479925901307982452831610787275979941 133133688169362819419341682354326791750874517270785300499298099495818696 215414832505658809004682396169711233230800418578767753330908886771798637 348548520675021628424024078524038024981674935849553053830206986267617333 563963353180680437428706474693749258212475354428320807161115873039415970 912511873855702065852730553217787283194150290277873860991322859307033303 1476475227036382503281437027911536541406625644706194668152438732346449273 2388987100892084569134167581129323824600775934984068529143761591653482576 3865462327928467072415604609040860366007401579690263197296200323999931849 6254449428820551641549772190170184190608177514674331726439961915653414425 10119911756749018713965376799211044556615579094364594923736162239653346274 16374361185569570355515148989381228747223756609038926650176124155306760699 26494272942318589069480525788592273303839335703403521573912286394960106973 42868634127888159424995674777973502051063092312442448224088410550266867672 69362907070206748494476200566565775354902428015845969798000696945226974645 112231541198094907919471875344539277405965520328288418022089107495493842317 181594448268301656413948075911105052760867948344134387820089804440720816962 293825989466396564333419951255644330166833468672422805842178911936214659279 475420437734698220747368027166749382927701417016557193662268716376935476241 769246427201094785080787978422393713094534885688979999504447628313150135520 1244666864935793005828156005589143096022236302705537193166716344690085611761 2013913292136887790908943984011536809116771188394517192671163973003235747281 3258580157072680796737099989600679905139007491100054385837880317693321359042 5272493449209568587646043973612216714255778679494571578509044290696557106323 8531073606282249384383143963212896619394786170594625964346924608389878465365 13803567055491817972029187936825113333650564850089197542855968899086435571688 22334640661774067356412331900038009953045351020683823507202893507476314037053 36138207717265885328441519836863123286695915870773021050058862406562749608741 58472848379039952684853851736901133239741266891456844557261755914039063645794 94611056096305838013295371573764256526437182762229865607320618320601813254535 153083904475345790698149223310665389766178449653686710164582374234640876900329 247694960571651628711444594884429646292615632415916575771902992555242690154864 400778865046997419409593818195095036058794082069603285936485366789883567055193 648473825618649048121038413079524682351409714485519861708388359345126257210057 1049252690665646467530632231274619718410203796555123147644873726135009824265250 1697726516284295515651670644354144400761613511040643009353262085480136081475307 2746979206949941983182302875628764119171817307595766156998135811615145905740557 4444705723234237498833973519982908519933430818636409166351397897095281987215864 7191684930184179482016276395611672639105248126232175323349533708710427892956421 11636390653418416980850249915594581159038678944868584489700931605805709880172285 18828075583602596462866526311206253798143927071100759813050465314516137773128706 30464466237021013443716776226800834957182606015969344302751396920321847653300991 49292541820623609906583302538007088755326533087070104115801862234837985426429697 79757008057644623350300078764807923712509139103039448418553259155159833079730688 129049549878268233256883381302815012467835672190109552534355121389997818506160385 208806557935912856607183460067622936180344811293149000952908380545157651585891073 337856107814181089864066841370437948648180483483258553487263501935155470092051458 546662665750093946471250301438060884828525294776407554440171882480313121677942531 884518773564275036335317142808498833476705778259666107927435384415468591769993989 1431181439314368982806567444246559718305231073036073662367607266895781713447936520 2315700212878644019141884587055058551781936851295739770295042651311250305217930509 3746881652193013001948452031301618270087167924331813432662649918207032018665867029 6062581865071657021090336618356676821869104775627553202957692569518282323883797538 9809463517264670023038788649658295091956272699959366635620342487725314342549664567 15872045382336327044129125268014971913825377475586919838578035057243596666433462105 25681508899600997067167913917673267005781650175546286474198377544968911008983126672 41553554281937324111297039185688238919607027651133206312776412602212507675416588777 67235063181538321178464953103361505925388677826679492786974790147181418684399715449 108788617463475645289761992289049744844995705477812699099751202749393926359816304226 176023680645013966468226945392411250770384383304492191886725992896575345044216019675 284812298108489611757988937681460995615380088782304890986477195645969271404032323901 460835978753503578226215883073872246385764472086797082873203188542544616448248343576 745648276861993189984204820755333242001144560869101973859680384188513887852280667477 1206484255615496768210420703829205488386909032955899056732883572731058504300529011053 1952132532477489958194625524584538730388053593825001030592563956919572392152809678530 3158616788092986726405046228413744218774962626780900087325447529650630896453338689583 5110749320570476684599671752998282949163016220605901117918011486570203288606148368113 8269366108663463411004717981412027167937978847386801205243459016220834185059487057696 13380115429233940095604389734410310117100995067992702323161470502791037473665635425809 21649481537897403506609107715822337285038973915379503528404929519011871658725122483505 35029596967131343602213497450232647402139968983372205851566400021802909132390757909314 56679078505028747108822605166054984687178942898751709379971329540814780791115880392819 91708675472160090711036102616287632089318911882123915231537729562617689923506638302133 148387753977188837819858707782342616776497854780875624611509059103432470714622518694952 240096429449348928530894810398630248865816766662999539843046788666050160638129156997085 388484183426537766350753518180972865642314621443875164454555847769482631352751675692037 628580612875886694881648328579603114508131388106874704297602636435532791990880832689122 1017064796302424461232401846760575980150446009550749868752158484205015423343632508381159 1645645409178311156114050175340179094658577397657624573049761120640548215334513341070281 2662710205480735617346452022100755074809023407208374441801919604845563638678145849451440 4308355614659046773460502197440934169467600804865999014851680725486111854012659190521721 6971065820139782390806954219541689244276624212074373456653600330331675492690805039973161 11279421434798829164267456416982623413744225016940372471505281055817787346703464230494882 18250487254938611555074410636524312658020849229014745928158881386149462839394269270468043 29529908689737440719341867053506936071765074245955118399664162441967250186097733500962925 47780395944676052274416277690031248729785923474969864327823043828116713025492002771430968 77310304634413492993758144743538184801550997720924982727487206270083963211589736272393893 125090700579089545268174422433569433531336921195894847055310250098200676237081739043824861 202401005213503038261932567177107618332887918916819829782797456368284639448671475316218754 327491705792592583530106989610677051864224840112714676838107706466485315685753214360043615 529892711006095621792039556787784670197112759029534506620905162834769955134424689676262369 857384416798688205322146546398461722061337599142249183459012869301255270820177904036305984 1387277127804783827114186103186246392258450358171783690079918032136025225954602593712568353 2244661544603472032436332649584708114319787957314032873538930901437280496774780497748874337 3631938672408255859550518752770954506578238315485816563618848933573305722729383091461442690 5876600217011727891986851402355662620898026272799849437157779835010586219504163589210317027 9508538889419983751537370155126617127476264588285666000776628768583891942233546680671759717 15385139106431711643524221557482279748374290861085515437934408603594478161737710269882076744 24893677995851695395061591712608896875850555449371181438711037372178370103971256950553836461 40278817102283407038585813270091176624224846310456696876645445975772848265708967220435913205 65172495098135102433647404982700073500075401759827878315356483347951218369680224170989749666 105451312200418509472233218252791250124300248070284575192001929323724066635389191391425662871 170623807298553611905880623235491323624375649830112453507358412671675285005069415562415412537 276075119498972121378113841488282573748675897900397028699360341995399351640458606953841075408 446698926797525733283994464723773897373051547730509482206718754667074636645528022516256487945 722774046296497854662108306212056471121727445630906510906079096662473988285986629470097563353 1169472973094023587946102770935830368494778993361415993112797851329548624931514651986354051298 1892247019390521442608211077147886839616506438992322504018876947992022613217501281456451614651 3061719992484545030554313848083717208111285432353738497131674799321571238149015933442805665949 4953967011875066473162524925231604047727791871346061001150551747313593851366517214899257280600 8015687004359611503716838773315321255839077303699799498282226546635165089515533148342062946549 12969654016234677976879363698546925303566869175045860499432778293948758940882050363241320227149 20985341020594289480596202471862246559405946478745659997715004840583924030397583511583383173698 33954995036828967457475566170409171862972815653791520497147783134532682971279633874824703400847 54940336057423256938071768642271418422378762132537180494862787975116607001677217386408086574545 88895331094252224395547334812680590285351577786328700992010571109649289972956851261232789975392 143835667151675481333619103454952008707730339918865881486873359084765896974634068647640876549937 232730998245927705729166438267632598993081917705194582478883930194415186947590919908873666525329 376566665397603187062785541722584607700812257624060463965757289279181083922224988556514543075266 609297663643530892791951979990217206693894175329255046444641219473596270869815908465388209600595 985864329041134079854737521712801814394706432953315510410398508752777354792040897021902752675861 1595161992684664972646689501703019021088600608282570556855039728226373625661856805487290962276456 2581026321725799052501427023415820835483307041235886067265438236979150980453897702509193714952317 4176188314410464025148116525118839856571907649518456624120477965205524606115754507996484677228773 6757214636136263077649543548534660692055214690754342691385916202184675586569652210505678392181090 10933402950546727102797660073653500548627122340272799315506394167390200192685406718502163069409863 17690617586682990180447203622188161240682337031027142006892310369574875779255058929007841461590953 28624020537229717283244863695841661789309459371299941322398704536965075971940465647510004531000816 46314638123912707463692067318029823029991796402327083329291014906539951751195524576517845992591769 74938658661142424746936931013871484819301255773627024651689719443505027723135990224027850523592585 121253296785055132210628998331901307849293052175954107980980734350044979474331514800545696516184354 196191955446197556957565929345772792668594307949581132632670453793550007197467505024573547039776939 317445252231252689168194927677674100517887360125535240613651188143594986671799019825119243555961293 513637207677450246125760857023446893186481668075116373246321641937144993869266524849692790595738232 831082459908702935293955784701120993704369028200651613859972830080739980541065544674812034151699525 1344719667586153181419716641724567886890850696275767987106294472017884974410332069524504824747437757 2175802127494856116713672426425688880595219724476419600966267302098624954951397614199316858899137282 3520521795081009298133389068150256767486070420752187588072561774116509929361729683723821683646575039 5696323922575865414847061494575945648081290145228607189038829076215134884313127297923138542545712321 9216845717656874712980450562726202415567360565980794777111390850331644813674856981646960226192287360 14913169640232740127827512057302148063648650711209401966150219926546779697987984279570098768737999681 24130015357889614840807962620028350479216011277190196743261610776878424511662841261217058994930287041 39043184998122354968635474677330498542864661988399598709411830703425204209650825540787157763668286722 63173200356011969809443437297358849022080673265589795452673441480303628721313666802004216758598573763 102216385354134324778078911974689347564945335253989394162085272183728832930964492342791374522266860485 165389585710146294587522349272048196587026008519579189614758713664032461652278159144795591280865434248 267605971064280619365601261246737544151971343773568583776843985847761294583242651487586965803132294733 432995556774426913953123610518785740738997352293147773391602699511793756235520810632382557083997728981 700601527838707533318724871765523284890968696066716357168446685359555050818763462119969522887130023714 1133597084613134447271848482284309025629966048359864130560049384871348807054284272752352079971127752695 1834198612451841980590573354049832310520934744426580487728496070230903857873047734872321602858257776409 2967795697064976427862421836334141336150900792786444618288545455102252664927332007624673682829385529104 4801994309516818408452995190383973646671835537213025106017041525333156522800379742496995285687643305513 7769790006581794836315417026718114982822736329999469724305586980435409187727711750121668968517028834617 12571784316098613244768412217102088629494571867212494830322628505768565710528091492618664254204672140130 20341574322680408081083829243820203612317308197211964554628215486203974898255803242740333222721700974747 32913358638779021325852241460922292241811880064424459384950843991972540608783894735358997476926373114877 53254932961459429406936070704742495854129188261636423939579059478176515507039697978099330699648074089624 86168291600238450732788312165664788095941068326060883324529903470149056115823592713458328176574447204501 139423224561697880139724382870407283950070256587697307264108962948325571622863290691557658876222521294125 225591516161936330872512695036072072046011324913758190588638866418474627738686883405015987052796968498626 365014740723634211012237077906479355996081581501455497852747829366800199361550174096573645929019489792751 590606256885570541884749772942551428042092906415213688441386695785274827100237057501589632981816458291377 955620997609204752896986850849030784038174487916669186294134525152075026461787231598163278910835948084128 1546227254494775294781736623791582212080267394331882874735521220937349853562024289099752911892652406375505 2501848252103980047678723474640612996118441882248552061029655746089424880023811520697916190803488354459633 4048075506598755342460460098432195208198709276580434935765176967026774733585835809797669102696140760835138 6549923758702735390139183573072808204317151158828986996794832713116199613609647330495585293499629115294771 10597999265301490732599643671505003412515860435409421932560009680142974347195483140293254396195769876129909 17147923024004226122738827244577811616833011594238408929354842393259173960805130470788839689695398991424680 27745922289305716855338470916082815029348872029647830861914852073402148308000613611082094085891168867554589 44893845313309942978077298160660626646181883623886239791269694466661322268805744081870933775586567858979269 72639767602615659833415769076743441675530755653534070653184546540063470576806357692953027861477736726533858 117533612915925602811493067237404068321712639277420310444454241006724792845612101774823961637064304585513127 190173380518541262644908836314147509997243394930954381097638787546788263422418459467776989498542041312046985 307706993434466865456401903551551578318956034208374691542093028553513056268030561242600951135606345897560112 497880373953008128101310739865699088316199429139329072639731816100301319690449020710377940634148387209607097 805587367387474993557712643417250666635155463347703764181824844653814375958479581952978891769754733107167209 1303467741340483121659023383282949754951354892487032836821556660754115695648928602663356832403903120316774306 2109055108727958115216736026700200421586510355834736601003381505407930071607408184616335724173657853423941515 3412522850068441236875759409983150176537865248321769437824938166162045767256336787279692556577560973740715821 5521577958796399352092495436683350598124375604156506038828319671569975838863744971896028280751218827164657336 8934100808864840588968254846666500774662240852478275476653257837732021606120081759175720837328779800905373157 14455678767661239941060750283349851372786616456634781515481577509301997444983826731071749118079998628070030493 23389779576526080530029005130016352147448857309113056992134835347034019051103908490247469955408778428975403650 37845458344187320471089755413366203520235473765747838507616412856336016496087735221319219073488777057045434143 61235237920713401001118760543382555667684331074860895499751248203370035547191643711566689028897555486020837793 99080696264900721472208515956748759187919804840608734007367661059706052043279378932885908102386332543066271936 160315934185614122473327276500131314855604135915469629507118909263076087590471022644452597131283888029087109729 259396630450514843945535792456880074043523940756078363514486570322782139633750401577338505233670220572153381665 419712564636128966418863068957011388899128076671547993021605479585858227224221424221791102364954108601240491394 679109195086643810364398861413891462942652017427626356536092049908640366857971825799129607598624329173393873059 1098821759722772776783261930370902851841780094099174349557697529494498594082193250020920709963578437774634364453 1777930954809416587147660791784794314784432111526800706093789579403138960940165075820050317562202766948028237512 2876752714532189363930922722155697166626212205625975055651487108897637555022358325840971027525781204722662601965 4654683669341605951078583513940491481410644317152775761745276688300776515962523401661021345087983971670690839477 7531436383873795315009506236096188648036856522778750817396763797198414070984881727501992372613765176393353441442 12186120053215401266088089750036680129447500839931526579142040485499190586947405129163013717701749148064044280919 19717556437089196581097595986132868777484357362710277396538804282697604657932286856665006090315514324457397722361 31903676490304597847185685736169548906931858202641803975680844768196795244879691985828019808017263472521442003280 51621232927393794428283281722302417684416215565352081372219649050894399902811978842493025898332777796978839725641 83524909417698392275468967458471966591348073767993885347900493819091195147691670828321045706350041269500281728921 135146142345092186703752249180774384275764289333345966720120142869985595050503649670814071604682819066479121454562 218671051762790578979221216639246350867112363101339852068020636689076790198195320499135117311032860335979403183483 353817194107882765682973465820020735142876652434685818788140779559062385248698970169949188915715679402458524638045 572488245870673344662194682459267086009989015536025670856161416248139175446894290669084306226748539738437927821528 926305439978556110345168148279287821152865667970711489644302195807201560695593260839033495142464219140896452459573 1498793685849229455007362830738554907162854683506737160500463612055340736142487551508117801369212758879334380281101 2425099125827785565352530979017842728315720351477448650144765807862542296838080812347151296511676978020230832740674 3923892811677015020359893809756397635478575034984185810645229419917883032980568363855269097880889736899565213021775 6348991937504800585712424788774240363794295386461634460789995227780425329818649176202420394392566714919796045762449 10272884749181815606072318598530637999272870421445820271435224647698308362799217540057689492273456451819361258784224 16621876686686616191784743387304878363067165807907454732225219875478733692617866716260109886666023166739157304546673 26894761435868431797857061985835516362340036229353275003660444523177042055417084256317799378939479618558518563330897 43516638122555047989641805373140394725407202037260729735885664398655775748034950972577909265605502785297675867877570 70411399558423479787498867358975911087747238266614004739546108921832817803452035228895708644544982403856194431208467 113928037680978527777140672732116305813154440303874734475431773320488593551486986201473617910150485189153870299086037 184339437239402007564639540091092216900901678570488739214977882242321411354939021430369326554695467593010064730294504 298267474920380535341780212823208522714056118874363473690409655562810004906426007631842944464845952782163935029380541 482606912159782542906419752914300739614957797444852212905387537805131416261365029062212271019541420375173999759675045 780874387080163078248199965737509262329013916319215686595797193367941421167791036694055215484387373157337934789055586 1263481299239945621154619718651810001943971713764067899501184731173072837429156065756267486503928793532511934548730631 2044355686320108699402819684389319264272985630083283586096981924541014258596947102450322701988316166689849869337786217 3307836985560054320557439403041129266216957343847351485598166655714087096026103168206590188492244960222361803886516848 5352192671880163019960259087430448530489942973930635071695148580255101354623050270656912890480561126912211673224303065 8660029657440217340517698490471577796706900317777986557293315235969188450649153438863503078972806087134573477110819913 14012222329320380360477957577902026327196843291708621628988463816224289805272203709520415969453367214046785150335122978 "
          ]
        }
      ]
    },
    {
      "cell_type": "code",
      "source": [
        "#factorial\n",
        "num = int(input(\"Enter a number: \"))\n",
        "fact = 1\n",
        "for i in range(1, num+1):\n",
        "  fact=fact*i\n",
        "print(fact)"
      ],
      "metadata": {
        "id": "lsPskgF4rbkT",
        "outputId": "731d0739-09a7-412a-a43b-f8f7f9369109",
        "colab": {
          "base_uri": "https://localhost:8080/"
        }
      },
      "execution_count": 32,
      "outputs": [
        {
          "output_type": "stream",
          "name": "stdout",
          "text": [
            "Enter a number: 57\n",
            "40526919504877216755680601905432322134980384796226602145184481280000000000000\n"
          ]
        }
      ]
    },
    {
      "cell_type": "code",
      "source": [
        "#passed by value\n",
        "#function definition is here\n",
        "def changeme(mylist):\n",
        "  \"This changes a passed list into this fucntion\"\n",
        "  mylist.append([1,2,3,4]);\n",
        "  print(\"Values inside the function: \",mylist)\n",
        "  return\n",
        "#now you can call changeme function\n",
        "mylist=[10,20,30];\n",
        "changeme(mylist);\n",
        "print(\"values outside the function: \",mylist)"
      ],
      "metadata": {
        "id": "Ij6MkbjQrbm7",
        "outputId": "9215dd35-77fd-46fa-9a4c-3dfec8d25233",
        "colab": {
          "base_uri": "https://localhost:8080/"
        }
      },
      "execution_count": 33,
      "outputs": [
        {
          "output_type": "stream",
          "name": "stdout",
          "text": [
            "Values inside the function:  [10, 20, 30, [1, 2, 3, 4]]\n",
            "values outside the function:  [10, 20, 30, [1, 2, 3, 4]]\n"
          ]
        }
      ]
    },
    {
      "cell_type": "code",
      "source": [
        "#passed by reference\n",
        "#function definition is here\n",
        "def changeme(mylist):\n",
        "  \"This changes a passed list into this function\"\n",
        "  mylist=[1,2,3,4]; #This would assign new reference in mylist\n",
        "  print(\"Values inside the function: \",mylist)\n",
        "  return\n",
        "#now you can call changeme function\n",
        "mylist=[10,20,30];\n",
        "changeme(mylist);\n",
        "print(\"Values outside the function: \",mylist)"
      ],
      "metadata": {
        "id": "JXUw7_e2rbpj",
        "outputId": "328c95fc-41d4-49fd-e7a3-151e0cc96f49",
        "colab": {
          "base_uri": "https://localhost:8080/"
        }
      },
      "execution_count": 34,
      "outputs": [
        {
          "output_type": "stream",
          "name": "stdout",
          "text": [
            "Values inside the function:  [1, 2, 3, 4]\n",
            "Values outside the function:  [10, 20, 30]\n"
          ]
        }
      ]
    },
    {
      "cell_type": "code",
      "source": [
        "#keyword arguments\n",
        "#function definition is here\n",
        "def printme(str):\n",
        "  \"This prints a passed string into this function\"\n",
        "  print(str)\n",
        "  return;\n",
        "#Now you can call printme function\n",
        "printme(str=\"My string\")"
      ],
      "metadata": {
        "id": "k0j0WYRntDN0",
        "outputId": "cdeb2e4f-93b8-4cdc-b4e3-9d5b56c626ce",
        "colab": {
          "base_uri": "https://localhost:8080/"
        }
      },
      "execution_count": 35,
      "outputs": [
        {
          "output_type": "stream",
          "name": "stdout",
          "text": [
            "My string\n"
          ]
        }
      ]
    },
    {
      "cell_type": "code",
      "source": [
        "def printinfo(name,age):\n",
        "  \"This prints a passed info into this function\"\n",
        "  print(\"Name: \",name)\n",
        "  print(\"Age: \",age)\n",
        "  return;\n",
        "printinfo(age=50,name=\"miki\")"
      ],
      "metadata": {
        "id": "4HRM5XjVtDXQ",
        "outputId": "6707dbb8-4be1-48a4-9337-a128b4d46b53",
        "colab": {
          "base_uri": "https://localhost:8080/"
        }
      },
      "execution_count": 36,
      "outputs": [
        {
          "output_type": "stream",
          "name": "stdout",
          "text": [
            "Name:  miki\n",
            "Age:  50\n"
          ]
        }
      ]
    },
    {
      "cell_type": "code",
      "source": [
        "#default arguments\n",
        "def printinfo(name, age=35):\n",
        "  \"This prints a passed info into this function\"\n",
        "  print(\"Name: \",name)\n",
        "  print(\"Age\",age)\n",
        "  return;\n",
        "printinfo(age=50,name=\"miki\")\n",
        "printinfo(name=\"miki\")"
      ],
      "metadata": {
        "id": "nF0SYTdctDcg",
        "outputId": "b6ca135b-9dae-4940-ee87-681e39367d0f",
        "colab": {
          "base_uri": "https://localhost:8080/"
        }
      },
      "execution_count": 37,
      "outputs": [
        {
          "output_type": "stream",
          "name": "stdout",
          "text": [
            "Name:  miki\n",
            "Age 50\n",
            "Name:  miki\n",
            "Age 35\n"
          ]
        }
      ]
    },
    {
      "cell_type": "code",
      "source": [
        "def printinfo(arg1, *vartuple ):\n",
        "  \"This prints a variable passed arguments\"\n",
        "  print(\"Output is: \")\n",
        "  print(arg1)\n",
        "  for var in vartuple:\n",
        "    print(var)\n",
        "  return;\n",
        "printinfo(10)\n",
        "printinfo(70,60,50)"
      ],
      "metadata": {
        "id": "U1ZOOQ4LtDhh",
        "outputId": "5bde7b84-5dbc-46ad-f59e-73f3d716f83c",
        "colab": {
          "base_uri": "https://localhost:8080/"
        }
      },
      "execution_count": 38,
      "outputs": [
        {
          "output_type": "stream",
          "name": "stdout",
          "text": [
            "Output is: \n",
            "10\n",
            "Output is: \n",
            "70\n",
            "60\n",
            "50\n"
          ]
        }
      ]
    },
    {
      "cell_type": "code",
      "source": [
        "#scope of variables\n",
        "total=0;#The global variable\n",
        "def sum(arg1,arg2):\n",
        "  total=arg1+arg2;\n",
        "  print(\"Inside the function local total: \",total)\n",
        "  return total;\n",
        "sum(10,20);\n",
        "print(\"Outside the function global total: \",total)"
      ],
      "metadata": {
        "id": "_baMGFwmtDk0",
        "outputId": "7f3ba19f-5af6-4f4f-d551-e41efaedee15",
        "colab": {
          "base_uri": "https://localhost:8080/"
        }
      },
      "execution_count": 39,
      "outputs": [
        {
          "output_type": "stream",
          "name": "stdout",
          "text": [
            "Inside the function local total:  30\n",
            "Outside the function global total:  0\n"
          ]
        }
      ]
    },
    {
      "cell_type": "code",
      "source": [
        "#prime number program using math functions\n",
        "from math import sqrt\n",
        "max_value=eval(input(\"Display primes up to what value?\"))\n",
        "value=2 #smallest prime number\n",
        "while value<=max_value:\n",
        "  is_prime=True\n",
        "  trial_factor=2\n",
        "  root=sqrt(value)\n",
        "  while trial_factor<=root:\n",
        "    if value%trial_factor==0:\n",
        "      is_prime=False;\n",
        "      break\n",
        "    trial_factor+=1\n",
        "  if is_prime:\n",
        "    print(value, end=' ')\n",
        "  value+=1\n",
        "print()"
      ],
      "metadata": {
        "id": "LBcrbesXtDpy",
        "outputId": "1b2d495d-8014-4ff0-c17f-a90b61bdc606",
        "colab": {
          "base_uri": "https://localhost:8080/"
        }
      },
      "execution_count": 40,
      "outputs": [
        {
          "output_type": "stream",
          "name": "stdout",
          "text": [
            "Display primes up to what value?15\n",
            "2 3 5 7 11 13 \n"
          ]
        }
      ]
    },
    {
      "cell_type": "code",
      "source": [
        "#clock example 1\n",
        "from time import clock\n",
        "print(\"Enter your name: \",end=\"\")\n",
        "start_time=clock()\n",
        "name=input()\n",
        "elapsed=clock()-start_time\n",
        "print(name, \"it took you\",elapsed,\"seconds to respond\")"
      ],
      "metadata": {
        "id": "jtN0f3SdtDs1",
        "outputId": "63fc01e4-4d85-476c-a710-a20bf52174fa",
        "colab": {
          "base_uri": "https://localhost:8080/"
        }
      },
      "execution_count": 41,
      "outputs": [
        {
          "output_type": "stream",
          "name": "stderr",
          "text": [
            "/usr/local/lib/python3.7/dist-packages/ipykernel_launcher.py:4: DeprecationWarning: time.clock has been deprecated in Python 3.3 and will be removed from Python 3.8: use time.perf_counter or time.process_time instead\n",
            "  after removing the cwd from sys.path.\n"
          ]
        },
        {
          "output_type": "stream",
          "name": "stdout",
          "text": [
            "Enter your name: fazil\n",
            "fazil it took you 0.04178800000000038 seconds to respond\n"
          ]
        },
        {
          "output_type": "stream",
          "name": "stderr",
          "text": [
            "/usr/local/lib/python3.7/dist-packages/ipykernel_launcher.py:6: DeprecationWarning: time.clock has been deprecated in Python 3.3 and will be removed from Python 3.8: use time.perf_counter or time.process_time instead\n",
            "  \n"
          ]
        }
      ]
    },
    {
      "cell_type": "code",
      "source": [
        "#clock example 2\n",
        "from time import clock\n",
        "max_value=10000\n",
        "count=0\n",
        "start_time=clock()\n",
        "for value in range(2,max_value+1):\n",
        "  is_prime=True\n",
        "  for trial_factor in range(2,value):\n",
        "    if value%trial_factor==0:\n",
        "      is_prime=False\n",
        "      break\n",
        "  if is_prime:\n",
        "    count+=1\n",
        "print()\n",
        "elapsed=clock()-start_time\n",
        "print(\"Count:\",count, \"Elapsed time:\",elapsed, \"sec\")"
      ],
      "metadata": {
        "id": "SeyEnoRztDwg",
        "outputId": "7d053132-ca92-4b2e-a5ed-62153417e732",
        "colab": {
          "base_uri": "https://localhost:8080/"
        }
      },
      "execution_count": 42,
      "outputs": [
        {
          "output_type": "stream",
          "name": "stderr",
          "text": [
            "/usr/local/lib/python3.7/dist-packages/ipykernel_launcher.py:5: DeprecationWarning: time.clock has been deprecated in Python 3.3 and will be removed from Python 3.8: use time.perf_counter or time.process_time instead\n",
            "  \"\"\"\n"
          ]
        },
        {
          "output_type": "stream",
          "name": "stdout",
          "text": [
            "\n",
            "Count: 1229 Elapsed time: 0.6894480000000005 sec\n"
          ]
        },
        {
          "output_type": "stream",
          "name": "stderr",
          "text": [
            "/usr/local/lib/python3.7/dist-packages/ipykernel_launcher.py:15: DeprecationWarning: time.clock has been deprecated in Python 3.3 and will be removed from Python 3.8: use time.perf_counter or time.process_time instead\n",
            "  from ipykernel import kernelapp as app\n"
          ]
        }
      ]
    },
    {
      "cell_type": "code",
      "source": [
        "#simplerandom\n",
        "from random import randrange, seed\n",
        "seed(23)\n",
        "for i in range(0,100):\n",
        "  print(randrange(1,1000),end=' ')\n",
        "print()"
      ],
      "metadata": {
        "id": "p_WWl50ltDy5",
        "outputId": "997165be-aef7-4da9-8b77-0e2b5778d974",
        "colab": {
          "base_uri": "https://localhost:8080/"
        }
      },
      "execution_count": 43,
      "outputs": [
        {
          "output_type": "stream",
          "name": "stdout",
          "text": [
            "948 799 972 297 914 850 86 18 607 315 434 389 543 367 134 744 197 274 456 15 227 636 466 924 26 109 88 728 511 432 21 525 643 752 442 368 790 59 211 802 37 604 378 674 177 636 222 995 753 372 580 779 881 378 992 586 289 677 999 322 587 88 834 486 182 736 495 605 811 459 692 658 168 187 819 183 547 332 690 836 533 201 597 118 85 101 437 40 582 283 963 587 288 841 605 339 112 379 922 296 \n"
          ]
        }
      ]
    },
    {
      "cell_type": "code",
      "source": [
        "#rolling of a die program using random module functions\n",
        "from random import randrange\n",
        "for i in range(0,5):\n",
        "  value=randrange(1,6)\n",
        "  print(\"+----------+\")\n",
        "  if value==1:\n",
        "    print(\"|         |\")\n",
        "    print(\"|    *    |\")\n",
        "    print(\"|         |\")\n",
        "    print(\"+----------+\")\n",
        "  elif value==2:\n",
        "    print(\"| *       |\")\n",
        "    print(\"|         |\")\n",
        "    print(\"|       * |\")\n",
        "    print(\"+----------+\")\n",
        "  elif value==3:\n",
        "    print(\"|       * |\")\n",
        "    print(\"|    *    |\")\n",
        "    print(\"| *       |\")\n",
        "    print(\"+----------+\")\n",
        "  elif value==4:\n",
        "    print(\"| *     * |\")\n",
        "    print(\"|         |\")\n",
        "    print(\"| *     * |\")\n",
        "    print(\"+----------+\")\n",
        "  elif value==5:\n",
        "    print(\"| *     * |\")\n",
        "    print(\"|    *    |\")\n",
        "    print(\"| *     * |\")\n",
        "    print(\"+----------+\")"
      ],
      "metadata": {
        "id": "dAqcqaf2tD1j",
        "outputId": "dbb8025d-ec34-4579-c1cc-758743cbd042",
        "colab": {
          "base_uri": "https://localhost:8080/"
        }
      },
      "execution_count": 44,
      "outputs": [
        {
          "output_type": "stream",
          "name": "stdout",
          "text": [
            "+----------+\n",
            "| *     * |\n",
            "|    *    |\n",
            "| *     * |\n",
            "+----------+\n",
            "+----------+\n",
            "|       * |\n",
            "|    *    |\n",
            "| *       |\n",
            "+----------+\n",
            "+----------+\n",
            "| *     * |\n",
            "|         |\n",
            "| *     * |\n",
            "+----------+\n",
            "+----------+\n",
            "| *     * |\n",
            "|    *    |\n",
            "| *     * |\n",
            "+----------+\n",
            "+----------+\n",
            "| *       |\n",
            "|         |\n",
            "|       * |\n",
            "+----------+\n"
          ]
        }
      ]
    },
    {
      "cell_type": "code",
      "source": [
        "#gcdwithmain\n",
        "def gcd(m,n):\n",
        "  min=m if m<n else n\n",
        "  largestFactor=1\n",
        "  for i in range(1,min+1):\n",
        "    if m%i==0 and n%i==0:\n",
        "      largestFactor=i\n",
        "  return largestFactor\n",
        "def get_int():\n",
        "  return int(input(\"Please enter an integer: \"))\n",
        "def main():\n",
        "  n1=get_int()\n",
        "  n2=get_int()\n",
        "  print(\"gcd(\",n1,\",\", n2,\")=\",gcd(n1,n2),sep=\" \")\n",
        "main()"
      ],
      "metadata": {
        "id": "CFnt8s8ftD4G",
        "outputId": "df94bdc8-580f-4a54-f0ba-d7dc14df665d",
        "colab": {
          "base_uri": "https://localhost:8080/"
        }
      },
      "execution_count": 45,
      "outputs": [
        {
          "output_type": "stream",
          "name": "stdout",
          "text": [
            "Please enter an integer: 53\n",
            "Please enter an integer: 72\n",
            "gcd( 53 , 72 )= 1\n"
          ]
        }
      ]
    },
    {
      "cell_type": "code",
      "source": [
        "#parameter passing example\n",
        "def increment(x):\n",
        "  print(\"Beginning execution of increment, x= \",x)\n",
        "  x+=1\n",
        "  print(\"Ending execition of increment, x= \",x)\n",
        "def main():\n",
        "  x=5\n",
        "  print(\"Before increment, x=\",x)\n",
        "  increment(x)\n",
        "  print(\"After increment, x=\",x)\n",
        "main()"
      ],
      "metadata": {
        "id": "LX5GM-Vdt0H9",
        "outputId": "2be52f98-6760-45cc-e6cd-a3cec97c860c",
        "colab": {
          "base_uri": "https://localhost:8080/"
        }
      },
      "execution_count": 46,
      "outputs": [
        {
          "output_type": "stream",
          "name": "stdout",
          "text": [
            "Before increment, x= 5\n",
            "Beginning execution of increment, x=  5\n",
            "Ending execition of increment, x=  6\n",
            "After increment, x= 5\n"
          ]
        }
      ]
    },
    {
      "cell_type": "code",
      "source": [
        "#recursion\n",
        "def factorial(n):\n",
        "  if n==0:\n",
        "    return 1\n",
        "  else:\n",
        "    return n*factorial(n-1)\n",
        "def main():\n",
        "  print(\"0!= \", factorial(0))\n",
        "  print(\"1!= \", factorial(1))\n",
        "  print(\"6!= \", factorial(6))\n",
        "  print(\"10!= \", factorial(10))\n",
        "main()"
      ],
      "metadata": {
        "id": "mxF6WHhCt0Rr",
        "outputId": "d2d92090-f22e-454d-86d2-2c455bf2e6cc",
        "colab": {
          "base_uri": "https://localhost:8080/"
        }
      },
      "execution_count": 47,
      "outputs": [
        {
          "output_type": "stream",
          "name": "stdout",
          "text": [
            "0!=  1\n",
            "1!=  1\n",
            "6!=  720\n",
            "10!=  3628800\n"
          ]
        }
      ]
    },
    {
      "cell_type": "code",
      "source": [
        "#arithmeticeval\n",
        "def add(x,y):\n",
        "  return x+y\n",
        "def multiply(x,y):\n",
        "  return x*y\n",
        "def evaluate(f,x,y):\n",
        "  return f(x,y)\n",
        "def main():\n",
        "  print(add(2,3))\n",
        "  print(multiply(2,3))\n",
        "  print(evaluate(add,2,3))\n",
        "  print(evaluate(multiply,2,3))\n",
        "main()"
      ],
      "metadata": {
        "id": "_3odCzjVt0Ve",
        "outputId": "70b3f4c2-d48f-445c-e07c-392c2701739f",
        "colab": {
          "base_uri": "https://localhost:8080/"
        }
      },
      "execution_count": 48,
      "outputs": [
        {
          "output_type": "stream",
          "name": "stdout",
          "text": [
            "5\n",
            "6\n",
            "5\n",
            "6\n"
          ]
        }
      ]
    }
  ]
}