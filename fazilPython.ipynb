{
  "nbformat": 4,
  "nbformat_minor": 0,
  "metadata": {
    "colab": {
      "name": "fazilPython.ipynb",
      "provenance": [],
      "authorship_tag": "ABX9TyNTpbydNUUKW9kIW7eUNMW7",
      "include_colab_link": true
    },
    "kernelspec": {
      "name": "python3",
      "display_name": "Python 3"
    },
    "language_info": {
      "name": "python"
    }
  },
  "cells": [
    {
      "cell_type": "markdown",
      "metadata": {
        "id": "view-in-github",
        "colab_type": "text"
      },
      "source": [
        "<a href=\"https://colab.research.google.com/github/fazil16/pythonCode/blob/main/fazilPython.ipynb\" target=\"_parent\"><img src=\"https://colab.research.google.com/assets/colab-badge.svg\" alt=\"Open In Colab\"/></a>"
      ]
    },
    {
      "cell_type": "code",
      "execution_count": 1,
      "metadata": {
        "id": "SUgqwBMWB8i4",
        "colab": {
          "base_uri": "https://localhost:8080/"
        },
        "outputId": "381d2958-9937-45a0-bfd3-444487be0c91"
      },
      "outputs": [
        {
          "output_type": "stream",
          "name": "stdout",
          "text": [
            "Enter the value of num1:5\n",
            "Enter the value of num2:7\n",
            "The sum of 5 and 7 is 12\n"
          ]
        }
      ],
      "source": [
        "num1=int(input(\"Enter the value of num1:\"));\n",
        "num2=int(input(\"Enter the value of num2:\"));\n",
        "sum = num1 + num2;\n",
        "print('The sum of {0} and {1} is {2}'.format(num1,num2,sum,));"
      ]
    },
    {
      "cell_type": "code",
      "source": [
        "num = float(input(\"Enter the value:\"));\n",
        "sqrt = num ** 0.5;\n",
        "print('The square root of the giver number is', sqrt);"
      ],
      "metadata": {
        "colab": {
          "base_uri": "https://localhost:8080/"
        },
        "id": "KMQgSpkcEWQi",
        "outputId": "5cbafa1f-817a-412d-b4dd-cfccc040152c"
      },
      "execution_count": 2,
      "outputs": [
        {
          "output_type": "stream",
          "name": "stdout",
          "text": [
            "Enter the value:7\n",
            "The square root of the giver number is 2.6457513110645907\n"
          ]
        }
      ]
    },
    {
      "cell_type": "code",
      "source": [
        "x= 5;\n",
        "y = 10;\n",
        "temp= x;\n",
        "x = y;\n",
        "y = temp;\n",
        "print('The value of x after swapping',x);\n",
        "print('The value of y after swapping',y);"
      ],
      "metadata": {
        "colab": {
          "base_uri": "https://localhost:8080/"
        },
        "id": "9K6sAjpmEWTW",
        "outputId": "2b8972b6-c65a-437e-945a-a64cb321d422"
      },
      "execution_count": 3,
      "outputs": [
        {
          "output_type": "stream",
          "name": "stdout",
          "text": [
            "The value of x after swapping 10\n",
            "The value of y after swapping 5\n"
          ]
        }
      ]
    },
    {
      "cell_type": "code",
      "source": [
        "import cmath\n",
        "num = 1+2j\n",
        "num_sqrt = cmath.sqrt(num)\n",
        "print('The square root of {0} is {1:0.3f}+{2:0.3f}j'.format(num,num_sqrt.real,num_sqrt.imag))"
      ],
      "metadata": {
        "colab": {
          "base_uri": "https://localhost:8080/"
        },
        "id": "M2D2KKATEWVo",
        "outputId": "e7841318-995f-4cfa-eac8-3b4df1ad52d8"
      },
      "execution_count": 4,
      "outputs": [
        {
          "output_type": "stream",
          "name": "stdout",
          "text": [
            "The square root of (1+2j) is 1.272+0.786j\n"
          ]
        }
      ]
    },
    {
      "cell_type": "code",
      "source": [
        "a,b,c = 11,12,13\n",
        "s= (a+b+c)/2\n",
        "area= (s*(s-a)*(s-b)*(s-c)) ** 0.5\n",
        "print('The area of the triangle is %0.2f' %area)"
      ],
      "metadata": {
        "colab": {
          "base_uri": "https://localhost:8080/"
        },
        "id": "ktCOMwpWEWXs",
        "outputId": "25471d07-c2ea-4237-a709-b985c9b347a2"
      },
      "execution_count": 5,
      "outputs": [
        {
          "output_type": "stream",
          "name": "stdout",
          "text": [
            "The area of the triangle is 61.48\n"
          ]
        }
      ]
    },
    {
      "cell_type": "code",
      "source": [
        "a = b = c ='same'\n",
        "print(a)\n",
        "print(b)\n",
        "print(c)"
      ],
      "metadata": {
        "colab": {
          "base_uri": "https://localhost:8080/"
        },
        "id": "5uUHnNH-Ev_H",
        "outputId": "1a5148f3-ba05-4ebe-f5c6-491461854f13"
      },
      "execution_count": 6,
      "outputs": [
        {
          "output_type": "stream",
          "name": "stdout",
          "text": [
            "same\n",
            "same\n",
            "same\n"
          ]
        }
      ]
    },
    {
      "cell_type": "code",
      "source": [
        "x=(1==True)\n",
        "y=(1==False)\n",
        "a=True+4\n",
        "b=False+10\n",
        "print(\"x is\",x)\n",
        "print(\"y is\",y)\n",
        "print(\"a:\",a)\n",
        "print(\"b:\",b)"
      ],
      "metadata": {
        "colab": {
          "base_uri": "https://localhost:8080/"
        },
        "id": "58fGNIogE8dX",
        "outputId": "73a4dfc1-d782-4efa-e50f-7981fa9c57ab"
      },
      "execution_count": 7,
      "outputs": [
        {
          "output_type": "stream",
          "name": "stdout",
          "text": [
            "x is True\n",
            "y is False\n",
            "a: 5\n",
            "b: 10\n"
          ]
        }
      ]
    },
    {
      "cell_type": "code",
      "source": [
        ""
      ],
      "metadata": {
        "id": "brqQWEY-FA9_"
      },
      "execution_count": 7,
      "outputs": []
    },
    {
      "cell_type": "code",
      "source": [
        "website=\"mdfazil.com\"\n",
        "print(website)\n",
        "website=\"amdfazil/portfolio.github.io\"\n",
        "print(website)"
      ],
      "metadata": {
        "id": "YME4kjccFBAZ"
      },
      "execution_count": null,
      "outputs": []
    },
    {
      "cell_type": "code",
      "source": [
        "def maxOfTwo(x, y):\n",
        "  if x > y:\n",
        "    return x\n",
        "  return y\n",
        "def maxOfThree(x,y,z):\n",
        "  return maxOfTwo(x, maxOfTwo(y,z))\n",
        "print(maxOfThree(3,5,7))"
      ],
      "metadata": {
        "colab": {
          "base_uri": "https://localhost:8080/"
        },
        "id": "xOFINAKnFFFw",
        "outputId": "4663f4b0-8978-45e2-ff1a-a3e9b43b364a"
      },
      "execution_count": 8,
      "outputs": [
        {
          "output_type": "stream",
          "name": "stdout",
          "text": [
            "7\n"
          ]
        }
      ]
    },
    {
      "cell_type": "code",
      "source": [
        "def sum(numbers):\n",
        "  total = 0\n",
        "  for x in numbers:\n",
        "    total += x \n",
        "  return total\n",
        "print(sum((1,2,3,4,5,6)))"
      ],
      "metadata": {
        "colab": {
          "base_uri": "https://localhost:8080/"
        },
        "id": "wo2zR5VWFqg_",
        "outputId": "2eb77f6f-1ec3-458e-f68f-b218b7780473"
      },
      "execution_count": 9,
      "outputs": [
        {
          "output_type": "stream",
          "name": "stdout",
          "text": [
            "21\n"
          ]
        }
      ]
    },
    {
      "cell_type": "code",
      "source": [
        "def sum(numbers):\n",
        "  total = 1\n",
        "  for x in numbers:\n",
        "    total *= x \n",
        "  return total\n",
        "print(sum((2,3,4,5,6)))"
      ],
      "metadata": {
        "colab": {
          "base_uri": "https://localhost:8080/"
        },
        "id": "LyX4KLncFxCv",
        "outputId": "f8cfc273-f8c9-4a05-b6f2-fbd0dca6f728"
      },
      "execution_count": 10,
      "outputs": [
        {
          "output_type": "stream",
          "name": "stdout",
          "text": [
            "720\n"
          ]
        }
      ]
    },
    {
      "cell_type": "code",
      "source": [
        "def strRev(str):\n",
        "\n",
        "  revstr=''\n",
        "  index = len(str)\n",
        "  while index > 0:\n",
        "    revstr += str[index - 1]\n",
        "    index = index -1\n",
        "  return revstr\n",
        "print(strRev('mdfazil'));"
      ],
      "metadata": {
        "colab": {
          "base_uri": "https://localhost:8080/"
        },
        "id": "qSbKIRjKF1B4",
        "outputId": "b636c68c-2aca-46b6-deaf-98b379b989e4"
      },
      "execution_count": 13,
      "outputs": [
        {
          "output_type": "stream",
          "name": "stdout",
          "text": [
            "lizafdm\n"
          ]
        }
      ]
    },
    {
      "cell_type": "code",
      "source": [
        "def factorial(n):\n",
        "    if n == 0:\n",
        "        return 1\n",
        "    else:\n",
        "        return n * factorial(n-1)\n",
        "n=int(input(\"Enter a number to compute the factiorial : \"))\n",
        "print(factorial(n))"
      ],
      "metadata": {
        "colab": {
          "base_uri": "https://localhost:8080/"
        },
        "id": "DVFXd9lpF5s3",
        "outputId": "4c626df3-4e79-4c82-802d-cb1bd118fcc8"
      },
      "execution_count": 14,
      "outputs": [
        {
          "output_type": "stream",
          "name": "stdout",
          "text": [
            "Enter a number to compute the factiorial : 7\n",
            "5040\n"
          ]
        }
      ]
    },
    {
      "cell_type": "code",
      "source": [
        "def test_range(n):\n",
        "    if n in range(11,20):\n",
        "        print( \" %s is in the range\"%str(n))\n",
        "    else :\n",
        "        print(\"The number is outside the given range.\")\n",
        "test_range(5)"
      ],
      "metadata": {
        "colab": {
          "base_uri": "https://localhost:8080/"
        },
        "id": "WpGsGSr_F9gI",
        "outputId": "b15799bb-8d57-4b10-97f4-5641c967a998"
      },
      "execution_count": 15,
      "outputs": [
        {
          "output_type": "stream",
          "name": "stdout",
          "text": [
            "The number is outside the given range.\n"
          ]
        }
      ]
    },
    {
      "cell_type": "code",
      "source": [
        "def string_test(s):\n",
        "    d={\"upperCase\":0, \"lowerCase\":0}\n",
        "    for c in s:\n",
        "        if c.isupper():\n",
        "           d[\"upperCase\"]+=1\n",
        "        elif c.islower():\n",
        "           d[\"lowerCase\"]+=1\n",
        "        else:\n",
        "           pass\n",
        "    print (\"Original String : \", s)\n",
        "    print (\"No. of Upper case characters : \", d[\"upperCase\"])\n",
        "    print (\"No. of Lower case Characters : \", d[\"lowerCase\"])\n",
        "\n",
        "string_test('We Are Software Developers')"
      ],
      "metadata": {
        "colab": {
          "base_uri": "https://localhost:8080/"
        },
        "id": "5-nonDnXGA3_",
        "outputId": "07224194-08f7-47e6-9009-100391cce478"
      },
      "execution_count": 16,
      "outputs": [
        {
          "output_type": "stream",
          "name": "stdout",
          "text": [
            "Original String :  We Are Software Developers\n",
            "No. of Upper case characters :  4\n",
            "No. of Lower case Characters :  19\n"
          ]
        }
      ]
    },
    {
      "cell_type": "code",
      "source": [
        "def uniqueList(l):\n",
        "  x = []\n",
        "  for a in l:\n",
        "    if a not in x:\n",
        "      x.append(a)\n",
        "  return x\n",
        "\n",
        "print(uniqueList([1,2,3,3,3,3,4,5]))"
      ],
      "metadata": {
        "colab": {
          "base_uri": "https://localhost:8080/"
        },
        "id": "90ShDAWqGCKf",
        "outputId": "7b65ad6d-a114-4546-991a-06728ff8ffe9"
      },
      "execution_count": 17,
      "outputs": [
        {
          "output_type": "stream",
          "name": "stdout",
          "text": [
            "[1, 2, 3, 4, 5]\n"
          ]
        }
      ]
    },
    {
      "cell_type": "code",
      "source": [
        "def testPrime(n):\n",
        "    if (n==1):\n",
        "        return False;\n",
        "    elif (n==2):\n",
        "        return True;\n",
        "    else:\n",
        "        for x in range(2,n):\n",
        "            if(n % x==0):\n",
        "                return False;\n",
        "        return True;             \n",
        "print(testPrime(23))"
      ],
      "metadata": {
        "colab": {
          "base_uri": "https://localhost:8080/"
        },
        "id": "_ku4HiwTGJxm",
        "outputId": "3a71b999-2f5e-46a3-b0b8-65f7a96311ed"
      },
      "execution_count": 18,
      "outputs": [
        {
          "output_type": "stream",
          "name": "stdout",
          "text": [
            "True\n"
          ]
        }
      ]
    },
    {
      "cell_type": "code",
      "source": [
        "def isEvenNum(l):\n",
        "    enum = []\n",
        "    for n in l:\n",
        "        if n % 2 == 0:\n",
        "            enum.append(n)\n",
        "    return enum\n",
        "print(isEvenNum([1, 2, 3, 4, 5, 6, 7, 8, 9]))"
      ],
      "metadata": {
        "colab": {
          "base_uri": "https://localhost:8080/"
        },
        "id": "D_SAJRu0GMm_",
        "outputId": "1733051c-11b2-4a51-bbb7-142017fa4884"
      },
      "execution_count": 19,
      "outputs": [
        {
          "output_type": "stream",
          "name": "stdout",
          "text": [
            "[2, 4, 6, 8]\n"
          ]
        }
      ]
    },
    {
      "cell_type": "code",
      "source": [
        "def perfectNumber(n):\n",
        "    sum = 0\n",
        "    for x in range(1, n):\n",
        "        if n % x == 0:\n",
        "            sum += x\n",
        "    return sum == n\n",
        "print(perfectNumber(6))"
      ],
      "metadata": {
        "colab": {
          "base_uri": "https://localhost:8080/"
        },
        "id": "c6CXMs1dGQt3",
        "outputId": "92138020-e524-49a5-eaaf-343b9def4b53"
      },
      "execution_count": 20,
      "outputs": [
        {
          "output_type": "stream",
          "name": "stdout",
          "text": [
            "True\n"
          ]
        }
      ]
    },
    {
      "cell_type": "code",
      "source": [
        "def isPalindrome(string):\n",
        "\tleft_pos = 0\n",
        "\tright_pos = len(string) - 1\n",
        "\t\n",
        "\twhile right_pos >= left_pos:\n",
        "\t\tif not string[left_pos] == string[right_pos]:\n",
        "\t\t\treturn False\n",
        "\t\tleft_pos += 1\n",
        "\t\tright_pos -= 1\n",
        "\treturn True\n",
        "print(isPalindrome('aza'))"
      ],
      "metadata": {
        "colab": {
          "base_uri": "https://localhost:8080/"
        },
        "id": "XC-9jGcYGTyZ",
        "outputId": "df4900c9-6eac-4145-9c96-78de08db7bde"
      },
      "execution_count": 21,
      "outputs": [
        {
          "output_type": "stream",
          "name": "stdout",
          "text": [
            "True\n"
          ]
        }
      ]
    },
    {
      "cell_type": "code",
      "source": [
        "def pascalTriangle(n):\n",
        "   trow = [1]\n",
        "   y = [0]\n",
        "   for x in range(max(n,0)):\n",
        "      print(trow)\n",
        "      trow=[l+r for l,r in zip(trow+y, y+trow)]\n",
        "   return n>=1\n",
        "pascalTriangle(6)"
      ],
      "metadata": {
        "colab": {
          "base_uri": "https://localhost:8080/"
        },
        "id": "sFMb17O7GZcY",
        "outputId": "4fc7ef64-840b-4808-c07d-f54dc42ea55e"
      },
      "execution_count": 22,
      "outputs": [
        {
          "output_type": "stream",
          "name": "stdout",
          "text": [
            "[1]\n",
            "[1, 1]\n",
            "[1, 2, 1]\n",
            "[1, 3, 3, 1]\n",
            "[1, 4, 6, 4, 1]\n",
            "[1, 5, 10, 10, 5, 1]\n"
          ]
        },
        {
          "output_type": "execute_result",
          "data": {
            "text/plain": [
              "True"
            ]
          },
          "metadata": {},
          "execution_count": 22
        }
      ]
    },
    {
      "cell_type": "code",
      "source": [
        "import string, sys\n",
        "def ispangram(str1, alphabet=string.ascii_lowercase):\n",
        "    alphaset = set(alphabet)\n",
        "    return alphaset <= set(str1.lower())\n",
        " \n",
        "print ( ispangram('The quick brown fox jumps over the lazy dog'));"
      ],
      "metadata": {
        "colab": {
          "base_uri": "https://localhost:8080/"
        },
        "id": "XFFxzMQeGgD3",
        "outputId": "f42da25f-f6f0-4cb4-983c-607cb58dd5df"
      },
      "execution_count": 23,
      "outputs": [
        {
          "output_type": "stream",
          "name": "stdout",
          "text": [
            "True\n"
          ]
        }
      ]
    },
    {
      "cell_type": "code",
      "source": [
        "items=[n for n in input().split('-')]\n",
        "items.sort()\n",
        "print('-'.join(items))"
      ],
      "metadata": {
        "colab": {
          "base_uri": "https://localhost:8080/"
        },
        "id": "Q2lICaTaGh9o",
        "outputId": "debc8bb3-712c-445f-9cbd-f316f4e6329a"
      },
      "execution_count": 24,
      "outputs": [
        {
          "output_type": "stream",
          "name": "stdout",
          "text": [
            "h-i\n",
            "h-i\n"
          ]
        }
      ]
    },
    {
      "cell_type": "code",
      "source": [
        "def printValues():\n",
        "\tl = list()\n",
        "\tfor i in range(1,21):\n",
        "\t\tl.append(i**2)\n",
        "\tprint(l)\n",
        "\t\t\n",
        "printValues()"
      ],
      "metadata": {
        "colab": {
          "base_uri": "https://localhost:8080/"
        },
        "id": "xp69MPfZGkIo",
        "outputId": "aad8502c-099d-49d1-ca99-5ce26d32a693"
      },
      "execution_count": 25,
      "outputs": [
        {
          "output_type": "stream",
          "name": "stdout",
          "text": [
            "[1, 4, 9, 16, 25, 36, 49, 64, 81, 100, 121, 144, 169, 196, 225, 256, 289, 324, 361, 400]\n"
          ]
        }
      ]
    },
    {
      "cell_type": "code",
      "source": [
        "def make_bold(fn):\n",
        "    def wrapped():\n",
        "        return \"<b>\" + fn() + \"</b>\"\n",
        "    return wrapped\n",
        "\n",
        "def make_italic(fn):\n",
        "    def wrapped():\n",
        "        return \"<i>\" + fn() + \"</i>\"\n",
        "    return wrapped\n",
        "\n",
        "def make_underline(fn):\n",
        "    def wrapped():\n",
        "        return \"<u>\" + fn() + \"</u>\"\n",
        "    return wrapped\n",
        "@make_bold\n",
        "@make_italic\n",
        "@make_underline\n",
        "def hello():\n",
        "    return \"hello world\"\n",
        "print(hello())"
      ],
      "metadata": {
        "colab": {
          "base_uri": "https://localhost:8080/"
        },
        "id": "mpIS3lrFGotK",
        "outputId": "bd9ffdb0-eeb6-41c2-edcf-8a0e801e9952"
      },
      "execution_count": 26,
      "outputs": [
        {
          "output_type": "stream",
          "name": "stdout",
          "text": [
            "<b><i><u>hello world</u></i></b>\n"
          ]
        }
      ]
    },
    {
      "cell_type": "code",
      "source": [
        "myCode = 'print(\"hello world\")'\n",
        "code = \"\"\"\n",
        "def mutiply(x,y):\n",
        "    return x*y\n",
        "\n",
        "print('Multiply of 2 and 3 is: ',mutiply(2,3))\n",
        "\"\"\"\n",
        "exec(myCode)\n",
        "exec(code)"
      ],
      "metadata": {
        "colab": {
          "base_uri": "https://localhost:8080/"
        },
        "id": "SnuX49E8GspH",
        "outputId": "b075ad22-3758-49ab-d015-48739e0890da"
      },
      "execution_count": 27,
      "outputs": [
        {
          "output_type": "stream",
          "name": "stdout",
          "text": [
            "hello world\n",
            "Multiply of 2 and 3 is:  6\n"
          ]
        }
      ]
    },
    {
      "cell_type": "code",
      "source": [
        "def test(a):\n",
        "        def add(b):\n",
        "                nonlocal a\n",
        "                a += 1\n",
        "                return a+b\n",
        "        return add\n",
        "func= test(4)\n",
        "print(func(4))"
      ],
      "metadata": {
        "colab": {
          "base_uri": "https://localhost:8080/"
        },
        "id": "jDTvYnmRGy3L",
        "outputId": "56ab6fd1-079e-4a88-dfac-4e21b8b29530"
      },
      "execution_count": 28,
      "outputs": [
        {
          "output_type": "stream",
          "name": "stdout",
          "text": [
            "9\n"
          ]
        }
      ]
    },
    {
      "cell_type": "code",
      "source": [
        "def abc():\n",
        "    x = 1\n",
        "    y = 2\n",
        "    str1= \"w3resource\"\n",
        "    print(\"Python Exercises\")\n",
        "\n",
        "print(abc.__code__.co_nlocals)"
      ],
      "metadata": {
        "colab": {
          "base_uri": "https://localhost:8080/"
        },
        "id": "2aY6yNuJHAGn",
        "outputId": "ac6f89b3-5bd6-450e-9a89-77a3fd0abe2d"
      },
      "execution_count": 29,
      "outputs": [
        {
          "output_type": "stream",
          "name": "stdout",
          "text": [
            "3\n"
          ]
        }
      ]
    },
    {
      "cell_type": "code",
      "source": [
        "from time import sleep\n",
        "import math\n",
        "def delay(fn, ms, *args):\n",
        "  sleep(ms / 1000)\n",
        "  return fn(*args)\n",
        "print(\"Square root after specific miliseconds:\") \n",
        "print(delay(lambda x: math.sqrt(x), 100, 16))\n",
        "print(delay(lambda x: math.sqrt(x), 1000, 100))\n",
        "print(delay(lambda x: math.sqrt(x), 2000, 25100))\n"
      ],
      "metadata": {
        "colab": {
          "base_uri": "https://localhost:8080/"
        },
        "id": "IDZ64r7_Hcaw",
        "outputId": "61286cee-80a8-4c46-f4b9-228c2786c71e"
      },
      "execution_count": 30,
      "outputs": [
        {
          "output_type": "stream",
          "name": "stdout",
          "text": [
            "Square root after specific miliseconds:\n",
            "4.0\n",
            "10.0\n",
            "158.42979517754858\n"
          ]
        }
      ]
    },
    {
      "cell_type": "code",
      "source": [
        "print(\"Choice 1: Add, 2: Subraction, 3: Division, 4: Multiplication, 5: Quit\")\n",
        "n1 = input(\"Enter the choice of Operation :\")\n",
        "n = int(n1)\n",
        "if (n == 1):\n",
        "  print(\"You have chosen addition Option....\")\n",
        "  a1 = input(\"Enter the value for A :\")\n",
        "  b1 = input(\"Enter the value for B :\")\n",
        "  a = int(a1)\n",
        "  b = int(b1)\n",
        "  c = a + b\n",
        "  print(\"The Result of \",a,\" + \",b,\" is \",c)\n",
        "elif (n == 2):\n",
        "  print(\"You have chosen subraction Option....\")\n",
        "  a1 = input(\"Enter the value for A :\")\n",
        "  b1 = input(\"Enter the value for B :\")\n",
        "  a = int(a1)\n",
        "  b = int(b1)\n",
        "  c = a - b\n",
        "  print(\"The Result of \",a,\" - \",b,\" is \",c)\n",
        "elif (n == 3):\n",
        "  print(\"You have chosen division Option....\")\n",
        "  a1 = input(\"Enter the value for A :\")\n",
        "  b1 = input(\"Enter the value for B :\")\n",
        "  a = int(a1)\n",
        "  b = int(b1)\n",
        "  c = a * b\n",
        "  print(\"The Result of \",a,\" / \",b,\" is \",c)\n",
        "elif (n == 4):\n",
        "  print(\"You have chosen multiplication Option....\")\n",
        "  a1 = input(\"Enter the value for A :\")\n",
        "  b1 = input(\"Enter the value for B :\")\n",
        "  a = int(a1)\n",
        "  b = int(b1)\n",
        "  c = a / b\n",
        "  print(\"The Result of \",a,\" * \",b,\" is \",c)\n",
        "elif (n == 5):\n",
        "  print(\"Exited\")\n",
        "  exit()\n",
        "else:\n",
        "  print(\"You have entered a wrong number\")"
      ],
      "metadata": {
        "colab": {
          "base_uri": "https://localhost:8080/"
        },
        "id": "C_LmsImwJBbI",
        "outputId": "91d2f5c1-539c-46a9-c38e-237295489883"
      },
      "execution_count": 31,
      "outputs": [
        {
          "output_type": "stream",
          "name": "stdout",
          "text": [
            "Choice 1: Add, 2: Subraction, 3: Division, 4: Multiplication, 5: Quit\n",
            "Enter the choice of Operation :2\n",
            "You have chosen subraction Option....\n",
            "Enter the value for A :20\n",
            "Enter the value for B :18\n",
            "The Result of  20  -  18  is  2\n"
          ]
        }
      ]
    }
  ]
}